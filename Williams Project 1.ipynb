{
 "cells": [
  {
   "cell_type": "code",
   "execution_count": 84,
   "metadata": {},
   "outputs": [],
   "source": [
    "# PROJECT 1 Submission for James Williams"
   ]
  },
  {
   "cell_type": "code",
   "execution_count": 83,
   "metadata": {},
   "outputs": [
    {
     "name": "stdout",
     "output_type": "stream",
     "text": [
      "906609\n"
     ]
    }
   ],
   "source": [
    "# Challenge 1: Largest Palindrome\n",
    "\n",
    "# A palindromic number reads the same both ways. For example, 1234321 is a palindrome. \n",
    "# The largest palindrome made from the product of two two-digit numbers is 9009 = 91 × 99. \n",
    "# Find the largest palindrome made from the product of two three-digit numbers. \n",
    "# Afterward, write a brief explanation walking through your code's logic in markdown.\n",
    "\n",
    "def maxpalindromeproductfinder(max_number, min_number): #create function\n",
    "    maxpalindrome = 0 #max not identified yet\n",
    "    palindrome = [] #creates and empty list for palindromes\n",
    "    for i in range (max_number, min_number, -1): #cycles through each number from an input list\n",
    "        for j in range (i, min_number, -1): #cycles through same numbers from input list\n",
    "            product = i * j #generates a new list of products of all numbers from input list\n",
    "            product_list = list(str(product)) #this was the hardest part for me, trying to figure out how to 'split' the numbers to compare the first and last digits\n",
    "            if product_list == product_list[::-1]: #checks to see if product is a palindrome\n",
    "                palindrome.append(product) #adds product to palindrome list if it is a palindrome\n",
    "    maxpalindrome = max(palindrome) #pulls out largest palindrome from palindrome list\n",
    "    return print(maxpalindrome) #prints largest palindrome\n",
    "             \n",
    "max_number = 999\n",
    "min_number = 99\n",
    "test = maxpalindromeproductfinder(max_number, min_number)\n",
    "\n",
    "#this function first generates a list of all numbers multiplied from a given number list, \n",
    "#then generates a list of palindrome products that are sorted\n"
   ]
  },
  {
   "cell_type": "code",
   "execution_count": 39,
   "metadata": {},
   "outputs": [
    {
     "name": "stdout",
     "output_type": "stream",
     "text": [
      "277051\n"
     ]
    }
   ],
   "source": [
    "# Challenge 2: Summation of Primes\n",
    "# The sum of the primes below 10 is 2 + 3 + 5 + 7 = 17. \n",
    "# Find the sum of all the primes below 2,000. \n",
    "# Afterward, write a brief explanation walking through your code's logic in markdown.\n",
    "\n",
    "def primesum(numbers): #define function\n",
    "    primes = [] #create an empty list for primes\n",
    "    for number in numbers: #cycle through every number in number list\n",
    "        prime = True\n",
    "        for divider in range(2, number): #create list of every possible divider beside 1\n",
    "            if number % divider == 0: #if any number in list is divisible by any divider then number isn't prime\n",
    "                prime = False\n",
    "        if prime:\n",
    "            primes.append(number) #put all primes into prime list\n",
    "    return print(sum(primes)) #return sum of primes from list\n",
    "        \n",
    "test_numbers = range(0,2000)\n",
    "test = primesum(test_numbers)\n",
    "\n",
    "\n",
    "#this function identifies all prime numbers from from a given number list then returns the sum of the primes"
   ]
  },
  {
   "cell_type": "code",
   "execution_count": 5,
   "metadata": {},
   "outputs": [
    {
     "name": "stdout",
     "output_type": "stream",
     "text": [
      "165834\n"
     ]
    }
   ],
   "source": [
    "# Challenge 3: Multiples of 3 and 5\n",
    "# If we list all of the natural numbers below 10 that are multiples of 3 or 5, we get 3, 5, 6, and 9. \n",
    "# The sum of these multiples is 23. Find the sum of all the multiples of 3 and 5 below 1,000. \n",
    "# Afterward, write a brief explanation walking through your code's logic in markdown.\n",
    "\n",
    "def multiplesum(numbers): #create a function\n",
    "    multiple = [] #create empty list for multiples\n",
    "    for number in numbers: #loop through every number in numbers list\n",
    "        if number % 3 == 0 & number % 5 == 0: #if number is divisible by 3 and  5 add number to multiple list\n",
    "            multiple.append(number)\n",
    "    return print(sum(multiple)) #return sum of the multiples \n",
    "\n",
    "test_numbers = range(0,999)\n",
    "test = multiplesum(test_numbers)\n",
    "\n",
    "#this function generates a list of multiples of 3 and 5 from an inputed number list, \n",
    "#then returns the sum of those multiples"
   ]
  },
  {
   "cell_type": "code",
   "execution_count": 6,
   "metadata": {},
   "outputs": [
    {
     "name": "stdout",
     "output_type": "stream",
     "text": [
      "MeowNOadlkfj;bn\n"
     ]
    }
   ],
   "source": [
    "# Challenge 4: String Compressor\n",
    "# Implement a method to perform basic string compression using the counts of repeated characters. \n",
    "# (This is called run-length encoding.) For example, the string \"aabcccccaaa\" would become a2b1c5a3. \n",
    "# If the “compressed” string would not become smaller than the original string, your method should return the original string. \n",
    "# You can assume the string has only uppercase and lowercase letters (a–z). \n",
    "# Specify whether your solution is case sensitive or case insensitive and what you would need to change to make it the other. \n",
    "# Afterward, write a brief explanation walking through your code's logic in markdown.\n",
    "\n",
    "def string_compressor(string): #create a function\n",
    "    string_list = list(string) #turn string into a list\n",
    "    unique = [] #create an empty list for unique letters\n",
    "    for letter in string_list: #loop through all the letters in the string list\n",
    "        if letter not in unique: #add letter if not already in unique list\n",
    "            unique.append(letter)\n",
    "    compressed = \"\".join(unique) #join the list of unique letters into one string\n",
    "    return print(compressed) #function is case insensitive and could be made case sensitive by incorporating .upper() or .lower()\n",
    "\n",
    "test = string_compressor('MeowNOOadlkfjaljlk;bnwwww')\n",
    "\n",
    "#this function generates a list of unique characters from a given string"
   ]
  },
  {
   "cell_type": "code",
   "execution_count": 7,
   "metadata": {},
   "outputs": [
    {
     "name": "stdout",
     "output_type": "stream",
     "text": [
      "Fizz\n",
      "FizzBuzz\n",
      "Buzz\n",
      "Fizz\n",
      "FizzBuzz\n",
      "Fizz\n",
      "FizzBuzz\n",
      "Buzz\n",
      "Fizz\n",
      "FizzBuzz\n",
      "Fizz\n",
      "Buzz\n",
      "FizzBuzz\n",
      "Fizz\n",
      "FizzBuzz\n",
      "Buzz\n",
      "Fizz\n",
      "FizzBuzz\n",
      "Fizz\n",
      "FizzBuzz\n",
      "Buzz\n",
      "Fizz\n",
      "FizzBuzz\n",
      "Fizz\n",
      "Buzz\n",
      "FizzBuzz\n",
      "Fizz\n",
      "FizzBuzz\n",
      "Buzz\n",
      "Fizz\n",
      "FizzBuzz\n",
      "Fizz\n",
      "FizzBuzz\n",
      "Buzz\n",
      "Fizz\n",
      "FizzBuzz\n",
      "Fizz\n",
      "Buzz\n",
      "FizzBuzz\n",
      "Fizz\n",
      "FizzBuzz\n",
      "Buzz\n",
      "Fizz\n",
      "FizzBuzz\n",
      "Fizz\n",
      "FizzBuzz\n",
      "Buzz\n",
      "Fizz\n",
      "FizzBuzz\n",
      "Fizz\n",
      "Buzz\n",
      "FizzBuzz\n",
      "Fizz\n",
      "FizzBuzz\n",
      "Buzz\n",
      "Fizz\n",
      "FizzBuzz\n",
      "Fizz\n",
      "FizzBuzz\n",
      "Buzz\n",
      "Fizz\n",
      "FizzBuzz\n",
      "Fizz\n",
      "Buzz\n",
      "FizzBuzz\n",
      "Fizz\n",
      "FizzBuzz\n",
      "Buzz\n",
      "Fizz\n",
      "FizzBuzz\n",
      "Fizz\n",
      "FizzBuzz\n",
      "Buzz\n",
      "Fizz\n",
      "FizzBuzz\n",
      "Fizz\n",
      "Buzz\n",
      "FizzBuzz\n",
      "Fizz\n",
      "FizzBuzz\n",
      "Buzz\n",
      "Fizz\n",
      "FizzBuzz\n",
      "Fizz\n",
      "FizzBuzz\n"
     ]
    }
   ],
   "source": [
    "# Bonus 1: BONUS Challenge: FizzBuzz\n",
    "# Write a program that prints all of the numbers from 1 to 100. \n",
    "# For multiples of 3, instead of the number, print \"Fizz;\" for multiples of 5, print \"Buzz.\" \n",
    "# For numbers that are multiples of both 3 and 5, print \"FizzBuzz.\" \n",
    "# Afterward, write a brief explanation walking through your code's logic in markdown.\n",
    "\n",
    "def fizzbuzz(numbers): #create a function\n",
    "    multiple = [] #create an empty list for multiples\n",
    "    for number in numbers: #cycle through all numbers in list and test for divisilibyt by 3 and 5\n",
    "        if number % 3 == 0:\n",
    "            print('Fizz')\n",
    "        if number % 5 == 0:\n",
    "            print('Buzz')\n",
    "        if number % 3 == 0 & number % 5 == 0:\n",
    "            print('FizzBuzz')\n",
    "\n",
    "test_numbers = range(1,100)\n",
    "test = fizzbuzz(test_numbers)"
   ]
  },
  {
   "cell_type": "code",
   "execution_count": 8,
   "metadata": {},
   "outputs": [
    {
     "name": "stdout",
     "output_type": "stream",
     "text": [
      "even though you were thrifty and didn't party, you still cannot retire yet and need to work 45 more years\n",
      "you fool, because you partied you still cannot retire yet and need to work 85 more years\n"
     ]
    }
   ],
   "source": [
    "# Bonus 2: Retirement\n",
    "# A mantra often seen in commercials from investment companies is that we should all strive to save 1 million dollars \n",
    "# for retirement. \n",
    "# Anyways, here is a problem. Assume person X starts saving money at age 30, so the initial amount is 0. \n",
    "# Each year X deposits 12k in a fund that has 5 percent return per year, that is, for 12k deposited first \n",
    "# 600 would be received at the end of the year (no monthly payments). \n",
    "# Will X reach the goal of 1M by the age of 65? What if you have a variation of the problem where X \n",
    "# spends 50k the first time a milestone of 100k, 200k, ..., 900k is reached? If X does not achieve the 1M goals \n",
    "# at 65 in either scenario, for what age over the value of 65 would that happen? How much money would be spent \n",
    "# on celebrations until then? Afterward, write a brief explanation walking through your code's logic in markdown.\n",
    "\n",
    "def millionaireretirementcalculator(savings_per_year, interest_rate, years_worked, party_preference= False): #create function\n",
    "    count = 0\n",
    "    retirement = 0\n",
    "    milestone_amt = 100000\n",
    "    if party_preference == True: #calculates whether years worked are enough to save 1 million despite partying\n",
    "        while retirement < 1000000:\n",
    "            retirement = retirement + (savings_per_year*(1.00 + interest_rate))\n",
    "            count+= 1\n",
    "            if retirement >= milestone_amt:\n",
    "                retirement = retirement - 50000\n",
    "                milestone_amt += 100000\n",
    "        if count < years_worked:\n",
    "            print(\"despite spending lavishly on parties, you can retire now, and could have retired after only\" + str(count) + \"years of working\")\n",
    "        else:\n",
    "            print(\"you fool, because you partied you still cannot retire yet and need to work \" + str(count - years_worked) + \" more years\")\n",
    "    else: #calculates whether years worked are enought to save 1 million if no partying\n",
    "        while retirement < 1000000:\n",
    "            retirement = retirement + (savings_per_year*(1.00 + interest_rate))\n",
    "            count+= 1\n",
    "        if count < years_worked:\n",
    "            print(\"since you didn't party, you can retire now, and could have retired after only\" + str(count) + \"years of working\")\n",
    "        else:\n",
    "            print(\"even though you were thrifty and didn't party, you still cannot retire yet and need to work \" + str(count - years_worked) + \" more years\")\n",
    "            \n",
    "\n",
    "test_65 = millionaireretirementcalculator(12000, 0.05, 35)\n",
    "\n",
    "test_65 = millionaireretirementcalculator(12000, 0.05, 35, True)\n",
    "  "
   ]
  },
  {
   "cell_type": "code",
   "execution_count": 5,
   "metadata": {},
   "outputs": [
    {
     "ename": "KeyboardInterrupt",
     "evalue": "",
     "output_type": "error",
     "traceback": [
      "\u001b[0;31m---------------------------------------------------------------------------\u001b[0m",
      "\u001b[0;31mKeyboardInterrupt\u001b[0m                         Traceback (most recent call last)",
      "\u001b[0;32m<ipython-input-5-6b7d06480d46>\u001b[0m in \u001b[0;36m<module>\u001b[0;34m()\u001b[0m\n\u001b[1;32m     36\u001b[0m     \u001b[0;32mreturn\u001b[0m \u001b[0mprint\u001b[0m\u001b[0;34m(\u001b[0m\u001b[0mwinnings\u001b[0m\u001b[0;34m)\u001b[0m\u001b[0;34m\u001b[0m\u001b[0m\n\u001b[1;32m     37\u001b[0m \u001b[0;34m\u001b[0m\u001b[0m\n\u001b[0;32m---> 38\u001b[0;31m \u001b[0mtest\u001b[0m \u001b[0;34m=\u001b[0m \u001b[0mmartingalstrategypredictor\u001b[0m\u001b[0;34m(\u001b[0m\u001b[0;36m10000\u001b[0m\u001b[0;34m,\u001b[0m \u001b[0;36m13\u001b[0m\u001b[0;34m)\u001b[0m\u001b[0;34m\u001b[0m\u001b[0m\n\u001b[0m\u001b[1;32m     39\u001b[0m \u001b[0mtest\u001b[0m\u001b[0;34m\u001b[0m\u001b[0m\n\u001b[1;32m     40\u001b[0m \u001b[0;34m\u001b[0m\u001b[0m\n",
      "\u001b[0;32m<ipython-input-5-6b7d06480d46>\u001b[0m in \u001b[0;36mmartingalstrategypredictor\u001b[0;34m(bet, rounds)\u001b[0m\n\u001b[1;32m     28\u001b[0m         \u001b[0moutcome\u001b[0m \u001b[0;34m=\u001b[0m \u001b[0mnp\u001b[0m\u001b[0;34m.\u001b[0m\u001b[0mrandom\u001b[0m\u001b[0;34m.\u001b[0m\u001b[0mchoice\u001b[0m\u001b[0;34m(\u001b[0m\u001b[0moutcome_possibilities\u001b[0m\u001b[0;34m,\u001b[0m \u001b[0mp\u001b[0m\u001b[0;34m=\u001b[0m\u001b[0;34m[\u001b[0m\u001b[0mp_win\u001b[0m\u001b[0;34m,\u001b[0m \u001b[0mp_lose\u001b[0m\u001b[0;34m]\u001b[0m\u001b[0;34m)\u001b[0m \u001b[0;31m#win or lose outcome\u001b[0m\u001b[0;34m\u001b[0m\u001b[0m\n\u001b[1;32m     29\u001b[0m         \u001b[0;32mif\u001b[0m \u001b[0moutcome\u001b[0m \u001b[0;34m==\u001b[0m \u001b[0;34m'lose'\u001b[0m\u001b[0;34m:\u001b[0m\u001b[0;34m\u001b[0m\u001b[0m\n\u001b[0;32m---> 30\u001b[0;31m             \u001b[0mwinnings\u001b[0m \u001b[0;34m=\u001b[0m \u001b[0mwinnings\u001b[0m \u001b[0;34m-\u001b[0m \u001b[0;34m(\u001b[0m\u001b[0mbet\u001b[0m \u001b[0;34m*\u001b[0m \u001b[0;36m2\u001b[0m\u001b[0;34m)\u001b[0m\u001b[0;34m\u001b[0m\u001b[0m\n\u001b[0m\u001b[1;32m     31\u001b[0m             \u001b[0mbet\u001b[0m \u001b[0;34m=\u001b[0m \u001b[0mbet\u001b[0m \u001b[0;34m*\u001b[0m\u001b[0;36m2\u001b[0m\u001b[0;34m\u001b[0m\u001b[0m\n\u001b[1;32m     32\u001b[0m             \u001b[0mcount\u001b[0m \u001b[0;34m=\u001b[0m\u001b[0;34m+\u001b[0m \u001b[0;36m1\u001b[0m\u001b[0;34m\u001b[0m\u001b[0m\n",
      "\u001b[0;31mKeyboardInterrupt\u001b[0m: "
     ]
    }
   ],
   "source": [
    "# Bonus 3: Martingal Betting Strategy for Roulette\n",
    "# An 'interesting' strategy to beat the house at Roulette is the Martingal Betting Strategy. \n",
    "# You can see a brief description here: https://www.roulettesites.org/strategies/martingale/.\n",
    "# Placing Bets & Doubling Up You start with a small amount, preferably the table minimum, \n",
    "# and keep betting the same until you lose. \n",
    "# When this occurs, double the size of your bet for the next spin. This way, in case you win, you will \n",
    "# recover the money you lost on the previous round, and win something extra. \n",
    "# If you keep on losing, keep on doubling your bet – the logic stays the same. As soon as you win, you \n",
    "# should restart and bet the smallest amount for the next spin. Rinse and repeat.\n",
    "# Write a program that simulates a person applying this strategy who starts with an initial amount of 10k. \n",
    "# To keep things simple, assume that one of the simple bets is used each time (e. g. red, black, odd or even) \n",
    "# as these bets have probability of success of 16/38 and probability of failure 18/38. \n",
    "# The player starts with an  1bet.Ifthebetissuccesful,the1bet.Ifthebetissuccesful,the 1 bet is used again. \n",
    "# If the player loses the  1bet,a1bet,a 2 bet is used next time. If still unsuccessful, the bet doubles \n",
    "# each time for  4,4, 8, etc. Upon winning the bet, next bet is reset to $1. Use the code to get intuition \n",
    "# on how this strategy would fare in real life. Afterward, write a brief explanation walking through your \n",
    "# code's logic in markdown.\n",
    "\n",
    "import numpy as np\n",
    "from random import choices\n",
    "def martingalstrategypredictor (bet, rounds):\n",
    "    count = 0\n",
    "    winnings = 0\n",
    "    outcome_possibilities = ['win', 'lose']\n",
    "    p_win = 16/38\n",
    "    p_lose = 22/38\n",
    "    while count < rounds: \n",
    "        outcome = np.random.choice(outcome_possibilities, p=[p_win, p_lose]) #win or lose outcome\n",
    "        if outcome == 'lose':\n",
    "            winnings = winnings - (bet * 2)\n",
    "            bet = bet *2\n",
    "            count =+ 1\n",
    "        else:\n",
    "            winnings = winnings + (bet * 2)\n",
    "            count =+ 1\n",
    "    return print(winnings)\n",
    "\n",
    "test = martingalstrategypredictor(10000, 13)\n",
    "test\n",
    "\n",
    "#I struggled with this bonus question... here was my incomplete attempt"
   ]
  },
  {
   "cell_type": "code",
   "execution_count": null,
   "metadata": {},
   "outputs": [],
   "source": []
  }
 ],
 "metadata": {
  "kernelspec": {
   "display_name": "Python 3",
   "language": "python",
   "name": "python3"
  },
  "language_info": {
   "codemirror_mode": {
    "name": "ipython",
    "version": 3
   },
   "file_extension": ".py",
   "mimetype": "text/x-python",
   "name": "python",
   "nbconvert_exporter": "python",
   "pygments_lexer": "ipython3",
   "version": "3.6.5"
  }
 },
 "nbformat": 4,
 "nbformat_minor": 2
}
