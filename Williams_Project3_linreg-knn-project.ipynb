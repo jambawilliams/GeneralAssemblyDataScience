{
 "cells": [
  {
   "cell_type": "markdown",
   "metadata": {},
   "source": [
    "<img src=\"http://imgur.com/1ZcRyrc.png\" style=\"float: left; margin: 20px; height: 55px\">\n",
    "\n",
    "# Project 3: Linear Regression and KNN - Train/Test Split\n",
    "\n",
    "---"
   ]
  },
  {
   "cell_type": "markdown",
   "metadata": {},
   "source": [
    "# Introduction\n",
    "\n",
    "We've discussed overfitting in the context of bias and variance, and we've touched on some techniques, such as regularization, that are used to avoid overfitting (but haven't practiced them yet). In this lesson we'll discuss a fundamental method for avoiding overfitting that is commonly referred to as _train/test split_ validation. \n",
    "\n",
    "The idea is similar to something called \"cross-validation\" — in fact, it is a type of cross-validation — in that we split the data set into two subsets:\n",
    "* A subset on which to train our model.\n",
    "* A subset on which to test our model's predictions.\n",
    "\n",
    "This serves two useful purposes:\n",
    "* We prevent overfitting by not using all of the data.\n",
    "* We have some remaining data we can use to evaluate our model.\n",
    "\n",
    "While this may seem like a relatively simple idea, **there are some caveats** to putting it into practice. For example, if you are not careful, it is easy to take a non-random split. Suppose we have salary data on technical professionals that is composed of 80 percent data from California and 20 percent data from elsewhere and is sorted by state. If we split our data into 80 percent training data and 20 percent testing data, we might inadvertantly select all the California data to train and all the non-California data to test. In this case we've still overfit on our data set because we did not sufficiently randomize the data.\n",
    "\n",
    "In a situation like this we can use _k-fold cross-validation_, which is the same idea applied to more than two subsets. In particular, we partition our data into $k$ subsets and train on $k-1$ one of them, holding the last slice for testing. We can do this for each of the possible $k-1$ subsets."
   ]
  },
  {
   "cell_type": "markdown",
   "metadata": {},
   "source": [
    "# Independent Practice\n",
    "\n",
    "Ultimately we use a test-training split to compare multiple models on the same data set. This could be comparisons of two linear models or of completely different models on the same data.\n",
    "\n",
    "For your independent practice, fit three different models on the Boston housing data. For example, you could pick three different subsets of variables, one or more polynomial models, or any other model you'd like. \n",
    "\n",
    "### Here's What We Will Be Doing:\n",
    "\n",
    "* Working with Boston housing data to predict the value of a home\n",
    "* Create a test-train split of the data.\n",
    "* Train each of your models on the training data.\n",
    "* Evaluate each of the models on the test data.\n",
    "* Rank the models by how well they score on the testing data set.\n",
    "\n",
    "**Then, try k-folds.**\n",
    "\n",
    "* Try a few different splits of data for the same models.\n",
    "* Perform a k-fold cross-validation and use the cross-validation scores to compare your models. Did this change your rankings?\n",
    "\n",
    "**Be sure to provide interpretation for your results.**"
   ]
  },
  {
   "cell_type": "markdown",
   "metadata": {},
   "source": [
    "Recall that k-fold cross-validation creates a hold portion of your data set for each iteration of training and validating:\n",
    "\n",
    "![](http://i.imgur.com/0PFrPXJ.png)"
   ]
  },
  {
   "cell_type": "markdown",
   "metadata": {},
   "source": [
    "## Linear Regression Use Case\n",
    "\n",
    "In this given task, you will be asked to model the median home price of various houses across U.S. Census tracts in the city of Boston. This is a probable use case: We are predicting a continuous, numeric output (price) based on a combination of discrete features."
   ]
  },
  {
   "cell_type": "code",
   "execution_count": 30,
   "metadata": {},
   "outputs": [
    {
     "name": "stdout",
     "output_type": "stream",
     "text": [
      "Boston House Prices dataset\n",
      "===========================\n",
      "\n",
      "Notes\n",
      "------\n",
      "Data Set Characteristics:  \n",
      "\n",
      "    :Number of Instances: 506 \n",
      "\n",
      "    :Number of Attributes: 13 numeric/categorical predictive\n",
      "    \n",
      "    :Median Value (attribute 14) is usually the target\n",
      "\n",
      "    :Attribute Information (in order):\n",
      "        - CRIM     per capita crime rate by town\n",
      "        - ZN       proportion of residential land zoned for lots over 25,000 sq.ft.\n",
      "        - INDUS    proportion of non-retail business acres per town\n",
      "        - CHAS     Charles River dummy variable (= 1 if tract bounds river; 0 otherwise)\n",
      "        - NOX      nitric oxides concentration (parts per 10 million)\n",
      "        - RM       average number of rooms per dwelling\n",
      "        - AGE      proportion of owner-occupied units built prior to 1940\n",
      "        - DIS      weighted distances to five Boston employment centres\n",
      "        - RAD      index of accessibility to radial highways\n",
      "        - TAX      full-value property-tax rate per $10,000\n",
      "        - PTRATIO  pupil-teacher ratio by town\n",
      "        - B        1000(Bk - 0.63)^2 where Bk is the proportion of blacks by town\n",
      "        - LSTAT    % lower status of the population\n",
      "        - MEDV     Median value of owner-occupied homes in $1000's\n",
      "\n",
      "    :Missing Attribute Values: None\n",
      "\n",
      "    :Creator: Harrison, D. and Rubinfeld, D.L.\n",
      "\n",
      "This is a copy of UCI ML housing dataset.\n",
      "http://archive.ics.uci.edu/ml/datasets/Housing\n",
      "\n",
      "\n",
      "This dataset was taken from the StatLib library which is maintained at Carnegie Mellon University.\n",
      "\n",
      "The Boston house-price data of Harrison, D. and Rubinfeld, D.L. 'Hedonic\n",
      "prices and the demand for clean air', J. Environ. Economics & Management,\n",
      "vol.5, 81-102, 1978.   Used in Belsley, Kuh & Welsch, 'Regression diagnostics\n",
      "...', Wiley, 1980.   N.B. Various transformations are used in the table on\n",
      "pages 244-261 of the latter.\n",
      "\n",
      "The Boston house-price data has been used in many machine learning papers that address regression\n",
      "problems.   \n",
      "     \n",
      "**References**\n",
      "\n",
      "   - Belsley, Kuh & Welsch, 'Regression diagnostics: Identifying Influential Data and Sources of Collinearity', Wiley, 1980. 244-261.\n",
      "   - Quinlan,R. (1993). Combining Instance-Based and Model-Based Learning. In Proceedings on the Tenth International Conference of Machine Learning, 236-243, University of Massachusetts, Amherst. Morgan Kaufmann.\n",
      "   - many more! (see http://archive.ics.uci.edu/ml/datasets/Housing)\n",
      "\n"
     ]
    }
   ],
   "source": [
    "import pandas as pd\n",
    "import numpy as np\n",
    "import seaborn as sns\n",
    "import matplotlib.pyplot as plt\n",
    "% matplotlib inline\n",
    "from sklearn.datasets import load_boston\n",
    "\n",
    "boston = load_boston()\n",
    "\n",
    "X = pd.DataFrame(boston.data,\n",
    "                 columns=boston.feature_names)\n",
    "y = pd.DataFrame(boston.target,\n",
    "                 columns=['MEDV'])\n",
    "print(boston['DESCR'])"
   ]
  },
  {
   "cell_type": "markdown",
   "metadata": {},
   "source": [
    "### 1. Clean Up Data and Perform Exporatory Data Analysis"
   ]
  },
  {
   "cell_type": "markdown",
   "metadata": {
    "collapsed": true
   },
   "source": [
    "Boston data is from scikit-learn, so it ought to be pretty clean, but we should always perform exploratory data analysis."
   ]
  },
  {
   "cell_type": "code",
   "execution_count": 33,
   "metadata": {},
   "outputs": [
    {
     "data": {
      "text/html": [
       "<div>\n",
       "<style scoped>\n",
       "    .dataframe tbody tr th:only-of-type {\n",
       "        vertical-align: middle;\n",
       "    }\n",
       "\n",
       "    .dataframe tbody tr th {\n",
       "        vertical-align: top;\n",
       "    }\n",
       "\n",
       "    .dataframe thead th {\n",
       "        text-align: right;\n",
       "    }\n",
       "</style>\n",
       "<table border=\"1\" class=\"dataframe\">\n",
       "  <thead>\n",
       "    <tr style=\"text-align: right;\">\n",
       "      <th></th>\n",
       "      <th>MEDV</th>\n",
       "      <th>CRIM</th>\n",
       "      <th>ZN</th>\n",
       "      <th>INDUS</th>\n",
       "      <th>CHAS</th>\n",
       "      <th>NOX</th>\n",
       "      <th>RM</th>\n",
       "      <th>AGE</th>\n",
       "      <th>DIS</th>\n",
       "      <th>RAD</th>\n",
       "      <th>TAX</th>\n",
       "      <th>PTRATIO</th>\n",
       "      <th>LSTAT</th>\n",
       "    </tr>\n",
       "  </thead>\n",
       "  <tbody>\n",
       "    <tr>\n",
       "      <th>count</th>\n",
       "      <td>506.000000</td>\n",
       "      <td>506.000000</td>\n",
       "      <td>506.000000</td>\n",
       "      <td>506.000000</td>\n",
       "      <td>506.000000</td>\n",
       "      <td>506.000000</td>\n",
       "      <td>506.000000</td>\n",
       "      <td>506.000000</td>\n",
       "      <td>506.000000</td>\n",
       "      <td>506.000000</td>\n",
       "      <td>506.000000</td>\n",
       "      <td>506.000000</td>\n",
       "      <td>506.000000</td>\n",
       "    </tr>\n",
       "    <tr>\n",
       "      <th>mean</th>\n",
       "      <td>22.532806</td>\n",
       "      <td>3.593761</td>\n",
       "      <td>11.363636</td>\n",
       "      <td>11.136779</td>\n",
       "      <td>0.069170</td>\n",
       "      <td>0.554695</td>\n",
       "      <td>6.284634</td>\n",
       "      <td>68.574901</td>\n",
       "      <td>3.795043</td>\n",
       "      <td>9.549407</td>\n",
       "      <td>408.237154</td>\n",
       "      <td>18.455534</td>\n",
       "      <td>12.653063</td>\n",
       "    </tr>\n",
       "    <tr>\n",
       "      <th>std</th>\n",
       "      <td>9.197104</td>\n",
       "      <td>8.596783</td>\n",
       "      <td>23.322453</td>\n",
       "      <td>6.860353</td>\n",
       "      <td>0.253994</td>\n",
       "      <td>0.115878</td>\n",
       "      <td>0.702617</td>\n",
       "      <td>28.148861</td>\n",
       "      <td>2.105710</td>\n",
       "      <td>8.707259</td>\n",
       "      <td>168.537116</td>\n",
       "      <td>2.164946</td>\n",
       "      <td>7.141062</td>\n",
       "    </tr>\n",
       "    <tr>\n",
       "      <th>min</th>\n",
       "      <td>5.000000</td>\n",
       "      <td>0.006320</td>\n",
       "      <td>0.000000</td>\n",
       "      <td>0.460000</td>\n",
       "      <td>0.000000</td>\n",
       "      <td>0.385000</td>\n",
       "      <td>3.561000</td>\n",
       "      <td>2.900000</td>\n",
       "      <td>1.129600</td>\n",
       "      <td>1.000000</td>\n",
       "      <td>187.000000</td>\n",
       "      <td>12.600000</td>\n",
       "      <td>1.730000</td>\n",
       "    </tr>\n",
       "    <tr>\n",
       "      <th>25%</th>\n",
       "      <td>17.025000</td>\n",
       "      <td>0.082045</td>\n",
       "      <td>0.000000</td>\n",
       "      <td>5.190000</td>\n",
       "      <td>0.000000</td>\n",
       "      <td>0.449000</td>\n",
       "      <td>5.885500</td>\n",
       "      <td>45.025000</td>\n",
       "      <td>2.100175</td>\n",
       "      <td>4.000000</td>\n",
       "      <td>279.000000</td>\n",
       "      <td>17.400000</td>\n",
       "      <td>6.950000</td>\n",
       "    </tr>\n",
       "    <tr>\n",
       "      <th>50%</th>\n",
       "      <td>21.200000</td>\n",
       "      <td>0.256510</td>\n",
       "      <td>0.000000</td>\n",
       "      <td>9.690000</td>\n",
       "      <td>0.000000</td>\n",
       "      <td>0.538000</td>\n",
       "      <td>6.208500</td>\n",
       "      <td>77.500000</td>\n",
       "      <td>3.207450</td>\n",
       "      <td>5.000000</td>\n",
       "      <td>330.000000</td>\n",
       "      <td>19.050000</td>\n",
       "      <td>11.360000</td>\n",
       "    </tr>\n",
       "    <tr>\n",
       "      <th>75%</th>\n",
       "      <td>25.000000</td>\n",
       "      <td>3.647423</td>\n",
       "      <td>12.500000</td>\n",
       "      <td>18.100000</td>\n",
       "      <td>0.000000</td>\n",
       "      <td>0.624000</td>\n",
       "      <td>6.623500</td>\n",
       "      <td>94.075000</td>\n",
       "      <td>5.188425</td>\n",
       "      <td>24.000000</td>\n",
       "      <td>666.000000</td>\n",
       "      <td>20.200000</td>\n",
       "      <td>16.955000</td>\n",
       "    </tr>\n",
       "    <tr>\n",
       "      <th>max</th>\n",
       "      <td>50.000000</td>\n",
       "      <td>88.976200</td>\n",
       "      <td>100.000000</td>\n",
       "      <td>27.740000</td>\n",
       "      <td>1.000000</td>\n",
       "      <td>0.871000</td>\n",
       "      <td>8.780000</td>\n",
       "      <td>100.000000</td>\n",
       "      <td>12.126500</td>\n",
       "      <td>24.000000</td>\n",
       "      <td>711.000000</td>\n",
       "      <td>22.000000</td>\n",
       "      <td>37.970000</td>\n",
       "    </tr>\n",
       "  </tbody>\n",
       "</table>\n",
       "</div>"
      ],
      "text/plain": [
       "             MEDV        CRIM          ZN       INDUS        CHAS         NOX  \\\n",
       "count  506.000000  506.000000  506.000000  506.000000  506.000000  506.000000   \n",
       "mean    22.532806    3.593761   11.363636   11.136779    0.069170    0.554695   \n",
       "std      9.197104    8.596783   23.322453    6.860353    0.253994    0.115878   \n",
       "min      5.000000    0.006320    0.000000    0.460000    0.000000    0.385000   \n",
       "25%     17.025000    0.082045    0.000000    5.190000    0.000000    0.449000   \n",
       "50%     21.200000    0.256510    0.000000    9.690000    0.000000    0.538000   \n",
       "75%     25.000000    3.647423   12.500000   18.100000    0.000000    0.624000   \n",
       "max     50.000000   88.976200  100.000000   27.740000    1.000000    0.871000   \n",
       "\n",
       "               RM         AGE         DIS         RAD         TAX     PTRATIO  \\\n",
       "count  506.000000  506.000000  506.000000  506.000000  506.000000  506.000000   \n",
       "mean     6.284634   68.574901    3.795043    9.549407  408.237154   18.455534   \n",
       "std      0.702617   28.148861    2.105710    8.707259  168.537116    2.164946   \n",
       "min      3.561000    2.900000    1.129600    1.000000  187.000000   12.600000   \n",
       "25%      5.885500   45.025000    2.100175    4.000000  279.000000   17.400000   \n",
       "50%      6.208500   77.500000    3.207450    5.000000  330.000000   19.050000   \n",
       "75%      6.623500   94.075000    5.188425   24.000000  666.000000   20.200000   \n",
       "max      8.780000  100.000000   12.126500   24.000000  711.000000   22.000000   \n",
       "\n",
       "            LSTAT  \n",
       "count  506.000000  \n",
       "mean    12.653063  \n",
       "std      7.141062  \n",
       "min      1.730000  \n",
       "25%      6.950000  \n",
       "50%     11.360000  \n",
       "75%     16.955000  \n",
       "max     37.970000  "
      ]
     },
     "execution_count": 33,
     "metadata": {},
     "output_type": "execute_result"
    }
   ],
   "source": [
    "# Exploratory data analysis.\n",
    "# Include: total nulls, index, data types, shape, summary statistics, and the number of unique values for each column\n",
    "boston = pd.concat([y, X], axis=1)\n",
    "del boston['B']\n",
    "boston.describe(include='all')"
   ]
  },
  {
   "cell_type": "code",
   "execution_count": 34,
   "metadata": {},
   "outputs": [
    {
     "data": {
      "text/plain": [
       "pandas.core.frame.DataFrame"
      ]
     },
     "execution_count": 34,
     "metadata": {},
     "output_type": "execute_result"
    }
   ],
   "source": [
    "type(boston)"
   ]
  },
  {
   "cell_type": "code",
   "execution_count": 35,
   "metadata": {},
   "outputs": [
    {
     "data": {
      "text/html": [
       "<div>\n",
       "<style scoped>\n",
       "    .dataframe tbody tr th:only-of-type {\n",
       "        vertical-align: middle;\n",
       "    }\n",
       "\n",
       "    .dataframe tbody tr th {\n",
       "        vertical-align: top;\n",
       "    }\n",
       "\n",
       "    .dataframe thead th {\n",
       "        text-align: right;\n",
       "    }\n",
       "</style>\n",
       "<table border=\"1\" class=\"dataframe\">\n",
       "  <thead>\n",
       "    <tr style=\"text-align: right;\">\n",
       "      <th></th>\n",
       "      <th>MEDV</th>\n",
       "      <th>CRIM</th>\n",
       "      <th>ZN</th>\n",
       "      <th>INDUS</th>\n",
       "      <th>CHAS</th>\n",
       "      <th>NOX</th>\n",
       "      <th>RM</th>\n",
       "      <th>AGE</th>\n",
       "      <th>DIS</th>\n",
       "      <th>RAD</th>\n",
       "      <th>TAX</th>\n",
       "      <th>PTRATIO</th>\n",
       "      <th>LSTAT</th>\n",
       "    </tr>\n",
       "  </thead>\n",
       "  <tbody>\n",
       "    <tr>\n",
       "      <th>0</th>\n",
       "      <td>24.0</td>\n",
       "      <td>0.00632</td>\n",
       "      <td>18.0</td>\n",
       "      <td>2.31</td>\n",
       "      <td>0.0</td>\n",
       "      <td>0.538</td>\n",
       "      <td>6.575</td>\n",
       "      <td>65.2</td>\n",
       "      <td>4.0900</td>\n",
       "      <td>1.0</td>\n",
       "      <td>296.0</td>\n",
       "      <td>15.3</td>\n",
       "      <td>4.98</td>\n",
       "    </tr>\n",
       "    <tr>\n",
       "      <th>1</th>\n",
       "      <td>21.6</td>\n",
       "      <td>0.02731</td>\n",
       "      <td>0.0</td>\n",
       "      <td>7.07</td>\n",
       "      <td>0.0</td>\n",
       "      <td>0.469</td>\n",
       "      <td>6.421</td>\n",
       "      <td>78.9</td>\n",
       "      <td>4.9671</td>\n",
       "      <td>2.0</td>\n",
       "      <td>242.0</td>\n",
       "      <td>17.8</td>\n",
       "      <td>9.14</td>\n",
       "    </tr>\n",
       "    <tr>\n",
       "      <th>2</th>\n",
       "      <td>34.7</td>\n",
       "      <td>0.02729</td>\n",
       "      <td>0.0</td>\n",
       "      <td>7.07</td>\n",
       "      <td>0.0</td>\n",
       "      <td>0.469</td>\n",
       "      <td>7.185</td>\n",
       "      <td>61.1</td>\n",
       "      <td>4.9671</td>\n",
       "      <td>2.0</td>\n",
       "      <td>242.0</td>\n",
       "      <td>17.8</td>\n",
       "      <td>4.03</td>\n",
       "    </tr>\n",
       "    <tr>\n",
       "      <th>3</th>\n",
       "      <td>33.4</td>\n",
       "      <td>0.03237</td>\n",
       "      <td>0.0</td>\n",
       "      <td>2.18</td>\n",
       "      <td>0.0</td>\n",
       "      <td>0.458</td>\n",
       "      <td>6.998</td>\n",
       "      <td>45.8</td>\n",
       "      <td>6.0622</td>\n",
       "      <td>3.0</td>\n",
       "      <td>222.0</td>\n",
       "      <td>18.7</td>\n",
       "      <td>2.94</td>\n",
       "    </tr>\n",
       "    <tr>\n",
       "      <th>4</th>\n",
       "      <td>36.2</td>\n",
       "      <td>0.06905</td>\n",
       "      <td>0.0</td>\n",
       "      <td>2.18</td>\n",
       "      <td>0.0</td>\n",
       "      <td>0.458</td>\n",
       "      <td>7.147</td>\n",
       "      <td>54.2</td>\n",
       "      <td>6.0622</td>\n",
       "      <td>3.0</td>\n",
       "      <td>222.0</td>\n",
       "      <td>18.7</td>\n",
       "      <td>5.33</td>\n",
       "    </tr>\n",
       "  </tbody>\n",
       "</table>\n",
       "</div>"
      ],
      "text/plain": [
       "   MEDV     CRIM    ZN  INDUS  CHAS    NOX     RM   AGE     DIS  RAD    TAX  \\\n",
       "0  24.0  0.00632  18.0   2.31   0.0  0.538  6.575  65.2  4.0900  1.0  296.0   \n",
       "1  21.6  0.02731   0.0   7.07   0.0  0.469  6.421  78.9  4.9671  2.0  242.0   \n",
       "2  34.7  0.02729   0.0   7.07   0.0  0.469  7.185  61.1  4.9671  2.0  242.0   \n",
       "3  33.4  0.03237   0.0   2.18   0.0  0.458  6.998  45.8  6.0622  3.0  222.0   \n",
       "4  36.2  0.06905   0.0   2.18   0.0  0.458  7.147  54.2  6.0622  3.0  222.0   \n",
       "\n",
       "   PTRATIO  LSTAT  \n",
       "0     15.3   4.98  \n",
       "1     17.8   9.14  \n",
       "2     17.8   4.03  \n",
       "3     18.7   2.94  \n",
       "4     18.7   5.33  "
      ]
     },
     "execution_count": 35,
     "metadata": {},
     "output_type": "execute_result"
    }
   ],
   "source": [
    "boston.head()"
   ]
  },
  {
   "cell_type": "code",
   "execution_count": 36,
   "metadata": {},
   "outputs": [
    {
     "data": {
      "text/plain": [
       "RangeIndex(start=0, stop=506, step=1)"
      ]
     },
     "execution_count": 36,
     "metadata": {},
     "output_type": "execute_result"
    }
   ],
   "source": [
    "boston.index"
   ]
  },
  {
   "cell_type": "code",
   "execution_count": 37,
   "metadata": {},
   "outputs": [
    {
     "data": {
      "text/plain": [
       "MEDV       float64\n",
       "CRIM       float64\n",
       "ZN         float64\n",
       "INDUS      float64\n",
       "CHAS       float64\n",
       "NOX        float64\n",
       "RM         float64\n",
       "AGE        float64\n",
       "DIS        float64\n",
       "RAD        float64\n",
       "TAX        float64\n",
       "PTRATIO    float64\n",
       "LSTAT      float64\n",
       "dtype: object"
      ]
     },
     "execution_count": 37,
     "metadata": {},
     "output_type": "execute_result"
    }
   ],
   "source": [
    "boston.dtypes"
   ]
  },
  {
   "cell_type": "code",
   "execution_count": 38,
   "metadata": {},
   "outputs": [
    {
     "data": {
      "text/plain": [
       "(506, 13)"
      ]
     },
     "execution_count": 38,
     "metadata": {},
     "output_type": "execute_result"
    }
   ],
   "source": [
    "boston.shape"
   ]
  },
  {
   "cell_type": "code",
   "execution_count": 39,
   "metadata": {},
   "outputs": [
    {
     "data": {
      "text/plain": [
       "array([[2.4000e+01, 6.3200e-03, 1.8000e+01, ..., 2.9600e+02, 1.5300e+01,\n",
       "        4.9800e+00],\n",
       "       [2.1600e+01, 2.7310e-02, 0.0000e+00, ..., 2.4200e+02, 1.7800e+01,\n",
       "        9.1400e+00],\n",
       "       [3.4700e+01, 2.7290e-02, 0.0000e+00, ..., 2.4200e+02, 1.7800e+01,\n",
       "        4.0300e+00],\n",
       "       ...,\n",
       "       [2.3900e+01, 6.0760e-02, 0.0000e+00, ..., 2.7300e+02, 2.1000e+01,\n",
       "        5.6400e+00],\n",
       "       [2.2000e+01, 1.0959e-01, 0.0000e+00, ..., 2.7300e+02, 2.1000e+01,\n",
       "        6.4800e+00],\n",
       "       [1.1900e+01, 4.7410e-02, 0.0000e+00, ..., 2.7300e+02, 2.1000e+01,\n",
       "        7.8800e+00]])"
      ]
     },
     "execution_count": 39,
     "metadata": {},
     "output_type": "execute_result"
    }
   ],
   "source": [
    "boston.values"
   ]
  },
  {
   "cell_type": "code",
   "execution_count": 40,
   "metadata": {},
   "outputs": [
    {
     "name": "stdout",
     "output_type": "stream",
     "text": [
      "<class 'pandas.core.frame.DataFrame'>\n",
      "RangeIndex: 506 entries, 0 to 505\n",
      "Data columns (total 13 columns):\n",
      "MEDV       506 non-null float64\n",
      "CRIM       506 non-null float64\n",
      "ZN         506 non-null float64\n",
      "INDUS      506 non-null float64\n",
      "CHAS       506 non-null float64\n",
      "NOX        506 non-null float64\n",
      "RM         506 non-null float64\n",
      "AGE        506 non-null float64\n",
      "DIS        506 non-null float64\n",
      "RAD        506 non-null float64\n",
      "TAX        506 non-null float64\n",
      "PTRATIO    506 non-null float64\n",
      "LSTAT      506 non-null float64\n",
      "dtypes: float64(13)\n",
      "memory usage: 51.5 KB\n"
     ]
    }
   ],
   "source": [
    "boston.info()"
   ]
  },
  {
   "cell_type": "code",
   "execution_count": 41,
   "metadata": {},
   "outputs": [
    {
     "data": {
      "text/plain": [
       "14.33370    2\n",
       "0.01501     2\n",
       "0.08265     1\n",
       "0.97617     1\n",
       "0.14103     1\n",
       "0.03502     1\n",
       "0.03615     1\n",
       "0.66351     1\n",
       "0.12650     1\n",
       "0.10469     1\n",
       "0.25356     1\n",
       "0.10000     1\n",
       "0.05515     1\n",
       "0.11027     1\n",
       "4.26131     1\n",
       "0.34109     1\n",
       "22.59710    1\n",
       "0.28955     1\n",
       "4.34879     1\n",
       "0.10574     1\n",
       "3.47428     1\n",
       "0.02009     1\n",
       "0.14866     1\n",
       "5.66637     1\n",
       "15.87440    1\n",
       "0.04297     1\n",
       "0.78570     1\n",
       "0.29090     1\n",
       "1.23247     1\n",
       "2.44953     1\n",
       "           ..\n",
       "9.18702     1\n",
       "0.05602     1\n",
       "1.83377     1\n",
       "15.86030    1\n",
       "7.67202     1\n",
       "51.13580    1\n",
       "15.17720    1\n",
       "8.05579     1\n",
       "10.06230    1\n",
       "41.52920    1\n",
       "0.32264     1\n",
       "0.04379     1\n",
       "0.22212     1\n",
       "0.13117     1\n",
       "0.51183     1\n",
       "6.28807     1\n",
       "0.08826     1\n",
       "24.80170    1\n",
       "0.09065     1\n",
       "23.64820    1\n",
       "3.56868     1\n",
       "12.80230    1\n",
       "0.72580     1\n",
       "0.03113     1\n",
       "13.67810    1\n",
       "0.88125     1\n",
       "0.01951     1\n",
       "0.49298     1\n",
       "0.26838     1\n",
       "0.03578     1\n",
       "Name: CRIM, Length: 504, dtype: int64"
      ]
     },
     "execution_count": 41,
     "metadata": {},
     "output_type": "execute_result"
    }
   ],
   "source": [
    "boston.CRIM.value_counts()"
   ]
  },
  {
   "cell_type": "code",
   "execution_count": 42,
   "metadata": {},
   "outputs": [
    {
     "data": {
      "text/plain": [
       "0.0      372\n",
       "20.0      21\n",
       "80.0      15\n",
       "12.5      10\n",
       "22.0      10\n",
       "25.0      10\n",
       "40.0       7\n",
       "45.0       6\n",
       "30.0       6\n",
       "90.0       5\n",
       "21.0       4\n",
       "95.0       4\n",
       "60.0       4\n",
       "33.0       4\n",
       "75.0       3\n",
       "35.0       3\n",
       "28.0       3\n",
       "55.0       3\n",
       "52.5       3\n",
       "70.0       3\n",
       "34.0       3\n",
       "85.0       2\n",
       "82.5       2\n",
       "17.5       1\n",
       "100.0      1\n",
       "18.0       1\n",
       "Name: ZN, dtype: int64"
      ]
     },
     "execution_count": 42,
     "metadata": {},
     "output_type": "execute_result"
    }
   ],
   "source": [
    "boston.ZN.value_counts()"
   ]
  },
  {
   "cell_type": "code",
   "execution_count": 43,
   "metadata": {},
   "outputs": [
    {
     "data": {
      "text/plain": [
       "18.10    132\n",
       "19.58     30\n",
       "8.14      22\n",
       "6.20      18\n",
       "21.89     15\n",
       "9.90      12\n",
       "3.97      12\n",
       "8.56      11\n",
       "10.59     11\n",
       "5.86      10\n",
       "10.01      9\n",
       "6.91       9\n",
       "7.38       8\n",
       "2.46       8\n",
       "5.19       8\n",
       "9.69       8\n",
       "7.87       7\n",
       "25.65      7\n",
       "2.18       7\n",
       "4.05       7\n",
       "5.13       6\n",
       "3.44       6\n",
       "12.83      6\n",
       "4.93       6\n",
       "13.92      5\n",
       "6.96       5\n",
       "27.74      5\n",
       "11.93      5\n",
       "2.89       5\n",
       "6.41       5\n",
       "        ... \n",
       "2.03       2\n",
       "7.07       2\n",
       "1.91       2\n",
       "2.93       2\n",
       "6.06       2\n",
       "1.47       2\n",
       "3.37       2\n",
       "1.69       2\n",
       "2.95       2\n",
       "1.25       2\n",
       "3.64       2\n",
       "3.78       2\n",
       "2.68       2\n",
       "4.39       2\n",
       "1.38       1\n",
       "2.97       1\n",
       "2.25       1\n",
       "3.75       1\n",
       "1.89       1\n",
       "1.22       1\n",
       "1.32       1\n",
       "0.74       1\n",
       "1.76       1\n",
       "2.31       1\n",
       "0.46       1\n",
       "1.21       1\n",
       "4.15       1\n",
       "2.02       1\n",
       "2.01       1\n",
       "4.00       1\n",
       "Name: INDUS, Length: 76, dtype: int64"
      ]
     },
     "execution_count": 43,
     "metadata": {},
     "output_type": "execute_result"
    }
   ],
   "source": [
    "boston.INDUS.value_counts()"
   ]
  },
  {
   "cell_type": "code",
   "execution_count": 44,
   "metadata": {},
   "outputs": [
    {
     "data": {
      "text/plain": [
       "0.0    471\n",
       "1.0     35\n",
       "Name: CHAS, dtype: int64"
      ]
     },
     "execution_count": 44,
     "metadata": {},
     "output_type": "execute_result"
    }
   ],
   "source": [
    "boston.CHAS.value_counts()"
   ]
  },
  {
   "cell_type": "code",
   "execution_count": 45,
   "metadata": {},
   "outputs": [
    {
     "data": {
      "text/plain": [
       "0.5380    23\n",
       "0.7130    18\n",
       "0.4370    17\n",
       "0.8710    16\n",
       "0.4890    15\n",
       "0.6240    15\n",
       "0.6930    14\n",
       "0.6050    14\n",
       "0.7400    13\n",
       "0.5440    12\n",
       "0.7000    11\n",
       "0.5200    11\n",
       "0.6470    10\n",
       "0.5070    10\n",
       "0.4310    10\n",
       "0.4480     9\n",
       "0.5470     9\n",
       "0.4880     8\n",
       "0.4640     8\n",
       "0.4930     8\n",
       "0.7700     8\n",
       "0.4280     8\n",
       "0.5040     8\n",
       "0.5850     8\n",
       "0.5840     8\n",
       "0.5150     8\n",
       "0.6790     8\n",
       "0.5240     7\n",
       "0.5810     7\n",
       "0.6140     7\n",
       "          ..\n",
       "0.4429     4\n",
       "0.4000     4\n",
       "0.4050     3\n",
       "0.4100     3\n",
       "0.6550     3\n",
       "0.4090     3\n",
       "0.4290     3\n",
       "0.4580     3\n",
       "0.4330     3\n",
       "0.4040     3\n",
       "0.6680     3\n",
       "0.4161     3\n",
       "0.4010     3\n",
       "0.4030     3\n",
       "0.4600     3\n",
       "0.4420     3\n",
       "0.5750     2\n",
       "0.3980     2\n",
       "0.4690     2\n",
       "0.4840     2\n",
       "0.3920     2\n",
       "0.4150     2\n",
       "0.6590     2\n",
       "0.4379     2\n",
       "0.4350     1\n",
       "0.3850     1\n",
       "0.3940     1\n",
       "0.5180     1\n",
       "0.4220     1\n",
       "0.3890     1\n",
       "Name: NOX, Length: 81, dtype: int64"
      ]
     },
     "execution_count": 45,
     "metadata": {},
     "output_type": "execute_result"
    }
   ],
   "source": [
    "boston.NOX.value_counts()"
   ]
  },
  {
   "cell_type": "code",
   "execution_count": 46,
   "metadata": {},
   "outputs": [
    {
     "data": {
      "text/plain": [
       "6.167    3\n",
       "6.229    3\n",
       "6.127    3\n",
       "5.713    3\n",
       "6.417    3\n",
       "6.405    3\n",
       "6.380    2\n",
       "5.304    2\n",
       "5.983    2\n",
       "7.185    2\n",
       "5.856    2\n",
       "6.968    2\n",
       "7.820    2\n",
       "5.936    2\n",
       "6.030    2\n",
       "6.251    2\n",
       "6.431    2\n",
       "6.727    2\n",
       "6.004    2\n",
       "6.185    2\n",
       "6.193    2\n",
       "6.495    2\n",
       "5.757    2\n",
       "6.782    2\n",
       "6.951    2\n",
       "5.404    2\n",
       "6.009    2\n",
       "6.794    2\n",
       "6.315    2\n",
       "5.935    2\n",
       "        ..\n",
       "6.112    1\n",
       "6.006    1\n",
       "7.147    1\n",
       "5.468    1\n",
       "5.707    1\n",
       "7.267    1\n",
       "6.800    1\n",
       "5.818    1\n",
       "6.430    1\n",
       "6.762    1\n",
       "6.593    1\n",
       "7.178    1\n",
       "5.570    1\n",
       "5.884    1\n",
       "6.471    1\n",
       "7.107    1\n",
       "6.382    1\n",
       "6.575    1\n",
       "7.287    1\n",
       "5.898    1\n",
       "5.403    1\n",
       "8.266    1\n",
       "6.101    1\n",
       "5.093    1\n",
       "5.036    1\n",
       "6.552    1\n",
       "4.368    1\n",
       "6.174    1\n",
       "6.701    1\n",
       "6.625    1\n",
       "Name: RM, Length: 446, dtype: int64"
      ]
     },
     "execution_count": 46,
     "metadata": {},
     "output_type": "execute_result"
    }
   ],
   "source": [
    "boston.RM.value_counts()"
   ]
  },
  {
   "cell_type": "code",
   "execution_count": 47,
   "metadata": {},
   "outputs": [
    {
     "data": {
      "text/plain": [
       "100.0    43\n",
       "96.0      4\n",
       "98.2      4\n",
       "95.4      4\n",
       "97.9      4\n",
       "87.9      4\n",
       "98.8      4\n",
       "94.1      3\n",
       "88.0      3\n",
       "21.4      3\n",
       "96.2      3\n",
       "98.9      3\n",
       "97.3      3\n",
       "32.2      3\n",
       "97.0      3\n",
       "92.6      3\n",
       "36.6      3\n",
       "97.4      3\n",
       "95.6      3\n",
       "76.5      3\n",
       "94.5      2\n",
       "91.9      2\n",
       "6.6       2\n",
       "77.7      2\n",
       "18.5      2\n",
       "21.9      2\n",
       "84.1      2\n",
       "94.6      2\n",
       "82.6      2\n",
       "93.6      2\n",
       "         ..\n",
       "77.8      1\n",
       "78.9      1\n",
       "38.1      1\n",
       "66.6      1\n",
       "37.2      1\n",
       "89.9      1\n",
       "74.8      1\n",
       "61.8      1\n",
       "45.6      1\n",
       "78.3      1\n",
       "96.8      1\n",
       "95.7      1\n",
       "62.2      1\n",
       "73.9      1\n",
       "44.4      1\n",
       "97.8      1\n",
       "24.8      1\n",
       "68.2      1\n",
       "35.9      1\n",
       "64.7      1\n",
       "18.8      1\n",
       "46.7      1\n",
       "27.6      1\n",
       "97.7      1\n",
       "81.3      1\n",
       "47.6      1\n",
       "92.7      1\n",
       "13.9      1\n",
       "58.4      1\n",
       "40.1      1\n",
       "Name: AGE, Length: 356, dtype: int64"
      ]
     },
     "execution_count": 47,
     "metadata": {},
     "output_type": "execute_result"
    }
   ],
   "source": [
    "boston.AGE.value_counts()"
   ]
  },
  {
   "cell_type": "code",
   "execution_count": 48,
   "metadata": {},
   "outputs": [
    {
     "data": {
      "text/plain": [
       "3.4952    5\n",
       "5.2873    4\n",
       "5.4007    4\n",
       "5.7209    4\n",
       "6.8147    4\n",
       "3.6519    3\n",
       "7.3172    3\n",
       "5.4917    3\n",
       "7.8278    3\n",
       "5.4159    3\n",
       "6.4980    3\n",
       "7.3090    3\n",
       "4.8122    3\n",
       "6.0622    3\n",
       "6.4798    3\n",
       "5.1167    3\n",
       "6.3361    3\n",
       "3.9454    3\n",
       "4.7211    3\n",
       "3.3751    2\n",
       "2.4259    2\n",
       "3.7965    2\n",
       "3.2721    2\n",
       "7.9549    2\n",
       "7.3073    2\n",
       "2.7147    2\n",
       "4.3549    2\n",
       "5.1180    2\n",
       "4.1480    2\n",
       "5.9604    2\n",
       "         ..\n",
       "1.9265    1\n",
       "3.4106    1\n",
       "2.7831    1\n",
       "3.8771    1\n",
       "2.2565    1\n",
       "1.4655    1\n",
       "3.7886    1\n",
       "3.0993    1\n",
       "3.9986    1\n",
       "2.4631    1\n",
       "2.2616    1\n",
       "7.2255    1\n",
       "3.1025    1\n",
       "2.8290    1\n",
       "2.4210    1\n",
       "2.1974    1\n",
       "4.4619    1\n",
       "2.4329    1\n",
       "1.3216    1\n",
       "1.8773    1\n",
       "3.3779    1\n",
       "3.5459    1\n",
       "1.7984    1\n",
       "2.5480    1\n",
       "1.7659    1\n",
       "3.5549    1\n",
       "4.4534    1\n",
       "2.1000    1\n",
       "4.0905    1\n",
       "1.8125    1\n",
       "Name: DIS, Length: 412, dtype: int64"
      ]
     },
     "execution_count": 48,
     "metadata": {},
     "output_type": "execute_result"
    }
   ],
   "source": [
    "boston.DIS.value_counts()"
   ]
  },
  {
   "cell_type": "code",
   "execution_count": 49,
   "metadata": {},
   "outputs": [
    {
     "data": {
      "text/plain": [
       "24.0    132\n",
       "5.0     115\n",
       "4.0     110\n",
       "3.0      38\n",
       "6.0      26\n",
       "8.0      24\n",
       "2.0      24\n",
       "1.0      20\n",
       "7.0      17\n",
       "Name: RAD, dtype: int64"
      ]
     },
     "execution_count": 49,
     "metadata": {},
     "output_type": "execute_result"
    }
   ],
   "source": [
    "boston.RAD.value_counts()"
   ]
  },
  {
   "cell_type": "code",
   "execution_count": 50,
   "metadata": {},
   "outputs": [
    {
     "data": {
      "text/plain": [
       "666.0    132\n",
       "307.0     40\n",
       "403.0     30\n",
       "437.0     15\n",
       "304.0     14\n",
       "264.0     12\n",
       "398.0     12\n",
       "277.0     11\n",
       "384.0     11\n",
       "330.0     10\n",
       "224.0     10\n",
       "432.0      9\n",
       "233.0      9\n",
       "276.0      9\n",
       "391.0      8\n",
       "193.0      8\n",
       "296.0      8\n",
       "287.0      8\n",
       "188.0      7\n",
       "270.0      7\n",
       "300.0      7\n",
       "311.0      7\n",
       "284.0      7\n",
       "222.0      7\n",
       "329.0      6\n",
       "216.0      5\n",
       "223.0      5\n",
       "254.0      5\n",
       "273.0      5\n",
       "711.0      5\n",
       "        ... \n",
       "345.0      3\n",
       "293.0      3\n",
       "430.0      3\n",
       "245.0      3\n",
       "358.0      3\n",
       "242.0      2\n",
       "411.0      2\n",
       "348.0      2\n",
       "402.0      2\n",
       "252.0      2\n",
       "337.0      2\n",
       "335.0      2\n",
       "265.0      2\n",
       "315.0      2\n",
       "370.0      2\n",
       "334.0      2\n",
       "352.0      2\n",
       "351.0      1\n",
       "226.0      1\n",
       "256.0      1\n",
       "244.0      1\n",
       "241.0      1\n",
       "198.0      1\n",
       "285.0      1\n",
       "422.0      1\n",
       "187.0      1\n",
       "255.0      1\n",
       "313.0      1\n",
       "469.0      1\n",
       "280.0      1\n",
       "Name: TAX, Length: 66, dtype: int64"
      ]
     },
     "execution_count": 50,
     "metadata": {},
     "output_type": "execute_result"
    }
   ],
   "source": [
    "boston.TAX.value_counts()"
   ]
  },
  {
   "cell_type": "code",
   "execution_count": 51,
   "metadata": {},
   "outputs": [
    {
     "data": {
      "text/plain": [
       "20.2    140\n",
       "14.7     34\n",
       "21.0     27\n",
       "17.8     23\n",
       "19.2     19\n",
       "17.4     18\n",
       "18.6     17\n",
       "19.1     17\n",
       "16.6     16\n",
       "18.4     16\n",
       "21.2     15\n",
       "15.2     13\n",
       "13.0     12\n",
       "20.9     11\n",
       "17.9     11\n",
       "18.7      9\n",
       "19.7      8\n",
       "19.6      8\n",
       "17.6      7\n",
       "16.4      6\n",
       "18.0      5\n",
       "16.0      5\n",
       "20.1      5\n",
       "16.1      5\n",
       "16.9      5\n",
       "16.8      4\n",
       "14.9      4\n",
       "19.0      4\n",
       "18.5      4\n",
       "17.0      4\n",
       "18.2      4\n",
       "18.3      4\n",
       "12.6      3\n",
       "14.8      3\n",
       "18.9      3\n",
       "15.3      3\n",
       "15.9      2\n",
       "22.0      2\n",
       "15.6      2\n",
       "18.8      2\n",
       "15.5      1\n",
       "17.3      1\n",
       "15.1      1\n",
       "21.1      1\n",
       "13.6      1\n",
       "14.4      1\n",
       "Name: PTRATIO, dtype: int64"
      ]
     },
     "execution_count": 51,
     "metadata": {},
     "output_type": "execute_result"
    }
   ],
   "source": [
    "boston.PTRATIO.value_counts()"
   ]
  },
  {
   "cell_type": "code",
   "execution_count": 52,
   "metadata": {},
   "outputs": [
    {
     "data": {
      "text/plain": [
       "14.10    3\n",
       "6.36     3\n",
       "18.13    3\n",
       "8.05     3\n",
       "7.79     3\n",
       "9.50     2\n",
       "4.59     2\n",
       "3.76     2\n",
       "17.27    2\n",
       "10.11    2\n",
       "4.56     2\n",
       "3.16     2\n",
       "15.17    2\n",
       "23.98    2\n",
       "10.45    2\n",
       "14.81    2\n",
       "5.68     2\n",
       "6.72     2\n",
       "12.43    2\n",
       "7.44     2\n",
       "15.02    2\n",
       "13.15    2\n",
       "8.10     2\n",
       "30.81    2\n",
       "18.06    2\n",
       "7.60     2\n",
       "12.03    2\n",
       "17.60    2\n",
       "3.53     2\n",
       "3.11     2\n",
       "        ..\n",
       "17.58    1\n",
       "26.45    1\n",
       "7.74     1\n",
       "6.92     1\n",
       "9.28     1\n",
       "20.34    1\n",
       "16.47    1\n",
       "3.26     1\n",
       "5.91     1\n",
       "4.03     1\n",
       "10.29    1\n",
       "7.14     1\n",
       "6.90     1\n",
       "3.73     1\n",
       "13.33    1\n",
       "29.53    1\n",
       "14.15    1\n",
       "12.64    1\n",
       "6.57     1\n",
       "14.64    1\n",
       "13.22    1\n",
       "10.63    1\n",
       "27.80    1\n",
       "13.09    1\n",
       "6.43     1\n",
       "9.69     1\n",
       "9.62     1\n",
       "5.64     1\n",
       "22.98    1\n",
       "29.05    1\n",
       "Name: LSTAT, Length: 455, dtype: int64"
      ]
     },
     "execution_count": 52,
     "metadata": {},
     "output_type": "execute_result"
    }
   ],
   "source": [
    "boston.LSTAT.value_counts ()"
   ]
  },
  {
   "cell_type": "code",
   "execution_count": 53,
   "metadata": {},
   "outputs": [
    {
     "data": {
      "text/plain": [
       "MEDV       0\n",
       "CRIM       0\n",
       "ZN         0\n",
       "INDUS      0\n",
       "CHAS       0\n",
       "NOX        0\n",
       "RM         0\n",
       "AGE        0\n",
       "DIS        0\n",
       "RAD        0\n",
       "TAX        0\n",
       "PTRATIO    0\n",
       "LSTAT      0\n",
       "dtype: int64"
      ]
     },
     "execution_count": 53,
     "metadata": {},
     "output_type": "execute_result"
    }
   ],
   "source": [
    "boston.isnull().sum()"
   ]
  },
  {
   "cell_type": "markdown",
   "metadata": {},
   "source": [
    "## Using `scikit-learn` Linear Regression\n",
    "\n",
    "### 2. Pick 3-4 predictors (i.e. CRIM, ZN, etc...) that you will use to predict our target variable, MEDV.\n",
    "Score and plot your predictions. What do these results tell us?"
   ]
  },
  {
   "cell_type": "code",
   "execution_count": 54,
   "metadata": {},
   "outputs": [
    {
     "data": {
      "text/plain": [
       "<matplotlib.axes._subplots.AxesSubplot at 0x10c349d68>"
      ]
     },
     "execution_count": 54,
     "metadata": {},
     "output_type": "execute_result"
    },
    {
     "data": {
      "image/png": "[encoded data removed]",
      "text/plain": [
       "<Figure size 432x288 with 2 Axes>"
      ]
     },
     "metadata": {},
     "output_type": "display_data"
    }
   ],
   "source": [
    "sns.heatmap(boston.corr())"
   ]
  },
  {
   "cell_type": "code",
   "execution_count": 55,
   "metadata": {},
   "outputs": [
    {
     "name": "stdout",
     "output_type": "stream",
     "text": [
      "22.44304249125963\n"
     ]
    }
   ],
   "source": [
    "from sklearn.linear_model import LinearRegression\n",
    "from sklearn import metrics\n",
    "feature_cols_all = boston.columns.drop(['MEDV'])\n",
    "X = boston[feature_cols_all]\n",
    "y = boston.MEDV\n",
    "lr = LinearRegression()\n",
    "lr.fit(X,y)\n",
    "y_pred = lr.predict(X)\n",
    "print(metrics.mean_squared_error(y, y_pred))"
   ]
  },
  {
   "cell_type": "code",
   "execution_count": 56,
   "metadata": {},
   "outputs": [
    {
     "name": "stdout",
     "output_type": "stream",
     "text": [
      "41.69795101129759\n",
      "[-1.19615762e-01  4.69055158e-02  1.37963626e-02  2.84495457e+00\n",
      " -1.87943852e+01  3.65111680e+00  3.70628288e-03 -1.49043734e+00\n",
      "  2.88259456e-01 -1.26785144e-02 -9.38088171e-01 -5.53331515e-01]\n"
     ]
    }
   ],
   "source": [
    "print(lr.intercept_)\n",
    "print(lr.coef_)"
   ]
  },
  {
   "cell_type": "code",
   "execution_count": 57,
   "metadata": {},
   "outputs": [
    {
     "name": "stdout",
     "output_type": "stream",
     "text": [
      "60.42542319891321\n"
     ]
    }
   ],
   "source": [
    "from sklearn.linear_model import LinearRegression\n",
    "feature_cols = ['CRIM', 'AGE', 'TAX', 'DIS']\n",
    "X = boston[feature_cols]\n",
    "y = boston['MEDV']\n",
    "lr = LinearRegression()\n",
    "lr.fit(X, y)\n",
    "from sklearn import metrics\n",
    "y_pred = lr.predict(X)\n",
    "print(metrics.mean_squared_error(y, y_pred))\n",
    "\n",
    "#mean squared error is greater when only testing subset of features compared to all features"
   ]
  },
  {
   "cell_type": "code",
   "execution_count": 58,
   "metadata": {},
   "outputs": [
    {
     "name": "stdout",
     "output_type": "stream",
     "text": [
      "41.71887105210194\n",
      "[-0.17980214 -0.10616674 -0.01808962 -1.02098245]\n"
     ]
    }
   ],
   "source": [
    "print(lr.intercept_)\n",
    "print(lr.coef_)"
   ]
  },
  {
   "cell_type": "code",
   "execution_count": 59,
   "metadata": {},
   "outputs": [
    {
     "data": {
      "text/plain": [
       "[('CRIM', -0.17980214467416974),\n",
       " ('AGE', -0.10616673788369285),\n",
       " ('TAX', -0.018089615866847885),\n",
       " ('DIS', -1.020982450709317)]"
      ]
     },
     "execution_count": 59,
     "metadata": {},
     "output_type": "execute_result"
    }
   ],
   "source": [
    "list(zip(feature_cols, lr.coef_))"
   ]
  },
  {
   "cell_type": "code",
   "execution_count": 60,
   "metadata": {},
   "outputs": [
    {
     "data": {
      "image/png": "[encoded data removed]",
      "text/plain": [
       "<Figure size 1152x216 with 4 Axes>"
      ]
     },
     "metadata": {},
     "output_type": "display_data"
    }
   ],
   "source": [
    "fig, axs = plt.subplots(1, len(feature_cols), sharey=True)\n",
    "for index, feature in enumerate(feature_cols):\n",
    "    boston.plot(kind='scatter', x=feature, y='MEDV', ax=axs[index], figsize=(16, 3))"
   ]
  },
  {
   "cell_type": "code",
   "execution_count": 61,
   "metadata": {},
   "outputs": [
    {
     "data": {
      "image/png": "[encoded data removed]",
      "text/plain": [
       "<Figure size 720x180 with 4 Axes>"
      ]
     },
     "metadata": {},
     "output_type": "display_data"
    }
   ],
   "source": [
    "sns.pairplot(boston, x_vars=feature_cols, y_vars='MEDV', kind='reg');"
   ]
  },
  {
   "cell_type": "markdown",
   "metadata": {},
   "source": [
    "### 3. Try 70/30 and 90/10 train/test splits (70% of the data for training - 30% for testing, then 90% for training - 10% for testing)\n",
    "Score and plot. How do your metrics change? What does this tell us about the size of training/testing splits?"
   ]
  },
  {
   "cell_type": "code",
   "execution_count": 62,
   "metadata": {},
   "outputs": [
    {
     "name": "stdout",
     "output_type": "stream",
     "text": [
      "59.34073523748051\n",
      "63.60973599777664\n"
     ]
    }
   ],
   "source": [
    "from sklearn.model_selection import train_test_split\n",
    "X_train, X_test, y_train, y_test = train_test_split(X, y, test_size = 0.3, random_state=123)\n",
    "lr.fit(X_train, y_train)\n",
    "y_pred = lr.predict(X_test)\n",
    "print(metrics.mean_squared_error(y_train, lr.predict(X_train)))\n",
    "print(metrics.mean_squared_error(y_test, y_pred))"
   ]
  },
  {
   "cell_type": "code",
   "execution_count": 63,
   "metadata": {},
   "outputs": [
    {
     "name": "stdout",
     "output_type": "stream",
     "text": [
      "54.90980354009967\n",
      "111.31133629621789\n"
     ]
    }
   ],
   "source": [
    "from sklearn.model_selection import train_test_split\n",
    "X_train, X_test, y_train, y_test = train_test_split(X, y, test_size = 0.1, random_state=123)\n",
    "lr.fit(X_train, y_train)\n",
    "y_pred = lr.predict(X_test)\n",
    "print(metrics.mean_squared_error(y_train, lr.predict(X_train)))\n",
    "print(metrics.mean_squared_error(y_test, y_pred))\n",
    "\n",
    "#mean squared error improves when more data is used for training instead of testing"
   ]
  },
  {
   "cell_type": "markdown",
   "metadata": {},
   "source": [
    "### 4. Use k-fold cross validation varying the number of folds from 5 to 10\n",
    "What seems optimal? How do your scores change? What is the variance like? Try different folds to get a sense of how this impacts your score. What are the tradeoffs associated with choosing the number of folds?"
   ]
  },
  {
   "cell_type": "code",
   "execution_count": 64,
   "metadata": {},
   "outputs": [
    {
     "name": "stdout",
     "output_type": "stream",
     "text": [
      "~~~~ CROSS VALIDATION each fold ~~~~\n",
      "Model 1\n",
      "MSE: 71.95743917565653\n",
      "R2: 0.28160208743679815\n",
      "\n",
      "Model 2\n",
      "MSE: 48.96139248209915\n",
      "R2: 0.28298832115601125\n",
      "\n",
      "Model 3\n",
      "MSE: 54.38618654240553\n",
      "R2: 0.279983910437381\n",
      "\n",
      "Model 4\n",
      "MSE: 49.29285747453835\n",
      "R2: 0.2829267554169903\n",
      "\n",
      "Model 5\n",
      "MSE: 86.29576424198918\n",
      "R2: 0.28174042658117504\n",
      "\n",
      "~~~~ SUMMARY OF CROSS VALIDATION ~~~~\n",
      "Mean of MSE for all folds: 62.17872798333775\n",
      "Mean of R2 for all folds: 0.2818483002056712\n"
     ]
    }
   ],
   "source": [
    "#Accuracy goes down with n = 10 compared to n = 5 ; variance decreases while bias increases as number of folds increase\n",
    "from sklearn import model_selection\n",
    "kf = model_selection.KFold(n_splits=5, shuffle=True)\n",
    "mse_values = []\n",
    "scores = []\n",
    "n = 0\n",
    "\n",
    "print(\"~~~~ CROSS VALIDATION each fold ~~~~\")\n",
    "for train_index, test_index in kf.split(X, y):\n",
    "    lr = LinearRegression().fit(X.iloc[train_index], y.iloc[train_index])\n",
    "    \n",
    "    mse_values.append(metrics.mean_squared_error(y.iloc[test_index], lr.predict(X.iloc[test_index])))\n",
    "    scores.append(lr.score(X, y))\n",
    "    \n",
    "    n += 1\n",
    "    \n",
    "    print('Model {}'.format(n))\n",
    "    print('MSE: {}'.format(mse_values[n-1]))\n",
    "    print('R2: {}\\n'.format(scores[n-1]))\n",
    "\n",
    "\n",
    "print(\"~~~~ SUMMARY OF CROSS VALIDATION ~~~~\")\n",
    "print('Mean of MSE for all folds: {}'.format(np.mean(mse_values)))\n",
    "print('Mean of R2 for all folds: {}'.format(np.mean(scores)))"
   ]
  },
  {
   "cell_type": "code",
   "execution_count": 65,
   "metadata": {},
   "outputs": [
    {
     "name": "stdout",
     "output_type": "stream",
     "text": [
      "~~~~ CROSS VALIDATION each fold ~~~~\n",
      "Model 1\n",
      "MSE: 64.16122293617701\n",
      "R2: 0.28305579166345163\n",
      "\n",
      "Model 2\n",
      "MSE: 66.49697133305874\n",
      "R2: 0.28365500691921086\n",
      "\n",
      "Model 3\n",
      "MSE: 58.951683980169655\n",
      "R2: 0.2839370439490678\n",
      "\n",
      "Model 4\n",
      "MSE: 75.32845379270046\n",
      "R2: 0.28406913142174717\n",
      "\n",
      "Model 5\n",
      "MSE: 38.65500530690884\n",
      "R2: 0.283915426644468\n",
      "\n",
      "Model 6\n",
      "MSE: 54.674805563824236\n",
      "R2: 0.28375549611006856\n",
      "\n",
      "Model 7\n",
      "MSE: 98.69216897970438\n",
      "R2: 0.2830984237575477\n",
      "\n",
      "Model 8\n",
      "MSE: 57.24314475471117\n",
      "R2: 0.28372244511126576\n",
      "\n",
      "Model 9\n",
      "MSE: 57.00826591727212\n",
      "R2: 0.2835247099670918\n",
      "\n",
      "Model 10\n",
      "MSE: 43.17215568977413\n",
      "R2: 0.2832618462596447\n",
      "\n",
      "~~~~ SUMMARY OF CROSS VALIDATION ~~~~\n",
      "Mean of MSE for all folds: 61.438387825430084\n",
      "Mean of R2 for all folds: 0.2835995321803564\n"
     ]
    }
   ],
   "source": [
    "from sklearn import model_selection\n",
    "kf = model_selection.KFold(n_splits=10, shuffle=True)\n",
    "mse_values = []\n",
    "scores = []\n",
    "n = 0\n",
    "\n",
    "print(\"~~~~ CROSS VALIDATION each fold ~~~~\")\n",
    "for train_index, test_index in kf.split(X, y):\n",
    "    lr = LinearRegression().fit(X.iloc[train_index], y.iloc[train_index])\n",
    "    \n",
    "    mse_values.append(metrics.mean_squared_error(y.iloc[test_index], lr.predict(X.iloc[test_index])))\n",
    "    scores.append(lr.score(X, y))\n",
    "    \n",
    "    n += 1\n",
    "    \n",
    "    print('Model {}'.format(n))\n",
    "    print('MSE: {}'.format(mse_values[n-1]))\n",
    "    print('R2: {}\\n'.format(scores[n-1]))\n",
    "\n",
    "\n",
    "print(\"~~~~ SUMMARY OF CROSS VALIDATION ~~~~\")\n",
    "print('Mean of MSE for all folds: {}'.format(np.mean(mse_values)))\n",
    "print('Mean of R2 for all folds: {}'.format(np.mean(scores)))"
   ]
  },
  {
   "cell_type": "markdown",
   "metadata": {},
   "source": [
    "# KNN Practice"
   ]
  },
  {
   "cell_type": "code",
   "execution_count": 66,
   "metadata": {},
   "outputs": [],
   "source": [
    "# Read the iris data into a DataFrame\n",
    "import pandas as pd\n",
    "import numpy as np\n",
    "%matplotlib inline\n",
    "import matplotlib.pyplot as plt\n",
    "url = 'http://archive.ics.uci.edu/ml/machine-learning-databases/iris/iris.data'\n",
    "col_names = ['sepal_length', 'sepal_width', 'petal_length', 'petal_width', 'species']\n",
    "iris = pd.read_csv(url, header=None, names=col_names)"
   ]
  },
  {
   "cell_type": "code",
   "execution_count": 67,
   "metadata": {},
   "outputs": [],
   "source": [
    "# Increase the default figure and font sizes for easier viewing\n",
    "plt.rcParams['figure.figsize'] = (6, 4)\n",
    "plt.rcParams['font.size'] = 14"
   ]
  },
  {
   "cell_type": "code",
   "execution_count": 68,
   "metadata": {},
   "outputs": [
    {
     "data": {
      "text/html": [
       "<div>\n",
       "<style scoped>\n",
       "    .dataframe tbody tr th:only-of-type {\n",
       "        vertical-align: middle;\n",
       "    }\n",
       "\n",
       "    .dataframe tbody tr th {\n",
       "        vertical-align: top;\n",
       "    }\n",
       "\n",
       "    .dataframe thead th {\n",
       "        text-align: right;\n",
       "    }\n",
       "</style>\n",
       "<table border=\"1\" class=\"dataframe\">\n",
       "  <thead>\n",
       "    <tr style=\"text-align: right;\">\n",
       "      <th></th>\n",
       "      <th>sepal_length</th>\n",
       "      <th>sepal_width</th>\n",
       "      <th>petal_length</th>\n",
       "      <th>petal_width</th>\n",
       "      <th>species</th>\n",
       "    </tr>\n",
       "  </thead>\n",
       "  <tbody>\n",
       "    <tr>\n",
       "      <th>0</th>\n",
       "      <td>5.1</td>\n",
       "      <td>3.5</td>\n",
       "      <td>1.4</td>\n",
       "      <td>0.2</td>\n",
       "      <td>Iris-setosa</td>\n",
       "    </tr>\n",
       "    <tr>\n",
       "      <th>1</th>\n",
       "      <td>4.9</td>\n",
       "      <td>3.0</td>\n",
       "      <td>1.4</td>\n",
       "      <td>0.2</td>\n",
       "      <td>Iris-setosa</td>\n",
       "    </tr>\n",
       "    <tr>\n",
       "      <th>2</th>\n",
       "      <td>4.7</td>\n",
       "      <td>3.2</td>\n",
       "      <td>1.3</td>\n",
       "      <td>0.2</td>\n",
       "      <td>Iris-setosa</td>\n",
       "    </tr>\n",
       "    <tr>\n",
       "      <th>3</th>\n",
       "      <td>4.6</td>\n",
       "      <td>3.1</td>\n",
       "      <td>1.5</td>\n",
       "      <td>0.2</td>\n",
       "      <td>Iris-setosa</td>\n",
       "    </tr>\n",
       "    <tr>\n",
       "      <th>4</th>\n",
       "      <td>5.0</td>\n",
       "      <td>3.6</td>\n",
       "      <td>1.4</td>\n",
       "      <td>0.2</td>\n",
       "      <td>Iris-setosa</td>\n",
       "    </tr>\n",
       "  </tbody>\n",
       "</table>\n",
       "</div>"
      ],
      "text/plain": [
       "   sepal_length  sepal_width  petal_length  petal_width      species\n",
       "0           5.1          3.5           1.4          0.2  Iris-setosa\n",
       "1           4.9          3.0           1.4          0.2  Iris-setosa\n",
       "2           4.7          3.2           1.3          0.2  Iris-setosa\n",
       "3           4.6          3.1           1.5          0.2  Iris-setosa\n",
       "4           5.0          3.6           1.4          0.2  Iris-setosa"
      ]
     },
     "execution_count": 68,
     "metadata": {},
     "output_type": "execute_result"
    }
   ],
   "source": [
    "iris.head()"
   ]
  },
  {
   "cell_type": "code",
   "execution_count": 69,
   "metadata": {},
   "outputs": [],
   "source": [
    "# Create a custom colormap\n",
    "from matplotlib.colors import ListedColormap\n",
    "cmap_bold = ListedColormap(['#FF0000', '#00FF00', '#0000FF'])"
   ]
  },
  {
   "cell_type": "code",
   "execution_count": 70,
   "metadata": {},
   "outputs": [
    {
     "data": {
      "image/png": "[encoded data removed]",
      "text/plain": [
       "<Figure size 432x288 with 2 Axes>"
      ]
     },
     "metadata": {},
     "output_type": "display_data"
    },
    {
     "data": {
      "image/png": "[encoded data removed]",
      "text/plain": [
       "<Figure size 432x288 with 2 Axes>"
      ]
     },
     "metadata": {},
     "output_type": "display_data"
    }
   ],
   "source": [
    "# Map each iris species to a number\n",
    "# Let's use Iris-setosa':0, 'Iris-versicolor':1, 'Iris-virginica':2 and create a column called 'species_num'\n",
    "iris['species_num'] = iris.species.map({'Iris-setosa':0, 'Iris-versicolor':1, 'Iris-virginica':2})\n",
    "# Create a scatterplot of PETAL LENGTH versus PETAL WIDTH and color by SPECIES\n",
    "iris.plot(kind='scatter', x='petal_length', y='petal_width', c='species_num', colormap=cmap_bold);\n",
    "# Create a scatterplot of SEPAL LENGTH versus SEPAL WIDTH and color by SPECIES\n",
    "iris.plot(kind='scatter', x='petal_length', y='sepal_width', c='species_num', colormap=cmap_bold);"
   ]
  },
  {
   "cell_type": "markdown",
   "metadata": {},
   "source": [
    "## KNN Classification of the Iris Dataset"
   ]
  },
  {
   "cell_type": "markdown",
   "metadata": {},
   "source": [
    "### Create your feature matrix \"X\"\n",
    "This will be all species measurements (sepal length, petal width, etc...)"
   ]
  },
  {
   "cell_type": "code",
   "execution_count": 71,
   "metadata": {},
   "outputs": [],
   "source": [
    "feature_cols = ['sepal_length', 'sepal_width','petal_length', 'petal_width']\n",
    "X = iris[feature_cols]"
   ]
  },
  {
   "cell_type": "markdown",
   "metadata": {},
   "source": [
    "### Create your target vector \"y\"\n",
    "This will be the species type."
   ]
  },
  {
   "cell_type": "code",
   "execution_count": 72,
   "metadata": {},
   "outputs": [],
   "source": [
    "y = iris.species"
   ]
  },
  {
   "cell_type": "markdown",
   "metadata": {},
   "source": [
    "### Make Use of Train-Test-Split\n",
    "Split your data in to train and test sets."
   ]
  },
  {
   "cell_type": "code",
   "execution_count": 73,
   "metadata": {},
   "outputs": [],
   "source": [
    "from sklearn.neighbors import KNeighborsClassifier\n",
    "from sklearn.model_selection import train_test_split\n",
    "from sklearn import metrics\n",
    "X_train, X_test, y_train, y_test = train_test_split(X, y, random_state=123)"
   ]
  },
  {
   "cell_type": "markdown",
   "metadata": {},
   "source": [
    "### Import KNN From `scikit-learn` and Instatiate a Model With One Neighbor"
   ]
  },
  {
   "cell_type": "code",
   "execution_count": 74,
   "metadata": {},
   "outputs": [
    {
     "data": {
      "text/plain": [
       "KNeighborsClassifier(algorithm='auto', leaf_size=30, metric='minkowski',\n",
       "           metric_params=None, n_jobs=1, n_neighbors=1, p=2,\n",
       "           weights='uniform')"
      ]
     },
     "execution_count": 74,
     "metadata": {},
     "output_type": "execute_result"
    }
   ],
   "source": [
    "knn = KNeighborsClassifier(n_neighbors=1)\n",
    "knn.fit(X_train, y_train)"
   ]
  },
  {
   "cell_type": "markdown",
   "metadata": {},
   "source": [
    "### Check the Accuracy\n",
    "Train your model using the training set then use the test set to determine the accuracy"
   ]
  },
  {
   "cell_type": "code",
   "execution_count": 75,
   "metadata": {},
   "outputs": [
    {
     "name": "stdout",
     "output_type": "stream",
     "text": [
      "0.8947368421052632\n"
     ]
    }
   ],
   "source": [
    "y_pred_class = knn.predict(X_test)\n",
    "print((metrics.accuracy_score(y_test, y_pred_class)))"
   ]
  },
  {
   "cell_type": "markdown",
   "metadata": {},
   "source": [
    "### Create a Model With Five Neighbors. Did it Improve?"
   ]
  },
  {
   "cell_type": "code",
   "execution_count": 76,
   "metadata": {},
   "outputs": [
    {
     "name": "stdout",
     "output_type": "stream",
     "text": [
      "0.9736842105263158\n"
     ]
    }
   ],
   "source": [
    "# Five neighbors gives greater accuracy than n = 1\n",
    "knn = KNeighborsClassifier(n_neighbors=5)\n",
    "knn.fit(X_train, y_train)\n",
    "y_pred_class = knn.predict(X_test)\n",
    "print((metrics.accuracy_score(y_test, y_pred_class)))"
   ]
  },
  {
   "cell_type": "markdown",
   "metadata": {},
   "source": [
    "### Create a Looped Function That Will Check All Levels of Various Neighbors and Calculate the Accuracy"
   ]
  },
  {
   "cell_type": "code",
   "execution_count": 77,
   "metadata": {},
   "outputs": [
    {
     "data": {
      "image/png": "[encoded data removed]",
      "text/plain": [
       "<Figure size 432x288 with 1 Axes>"
      ]
     },
     "metadata": {},
     "output_type": "display_data"
    }
   ],
   "source": [
    "scores = []\n",
    "for k in range(1,100):\n",
    "    knn = KNeighborsClassifier(n_neighbors=k)\n",
    "    knn.fit(X,y)\n",
    "    pred = knn.predict(X)\n",
    "    score = float(sum(pred == y)) / len(y)\n",
    "    scores.append([k, score])\n",
    "data = pd.DataFrame(scores,columns=['k','score'])\n",
    "data.plot.line(x='k',y='score');"
   ]
  },
  {
   "cell_type": "code",
   "execution_count": 78,
   "metadata": {},
   "outputs": [],
   "source": [
    "# Calculate TRAINING ERROR and TESTING ERROR for K=1 through 100.\n",
    "\n",
    "k_range = list(range(1, 101))\n",
    "training_error = []\n",
    "testing_error = []\n",
    "\n",
    "# Find test accuracy for all values of K between 1 and 100 (inclusive).\n",
    "for k in k_range:\n",
    "\n",
    "    # Instantiate the model with the current K value.\n",
    "    knn = KNeighborsClassifier(n_neighbors=k)\n",
    "    knn.fit(X_train, y_train)\n",
    "    \n",
    "    # Calculate training error (error = 1 - accuracy).\n",
    "    y_pred_class = knn.predict(X)\n",
    "    training_accuracy = metrics.accuracy_score(y, y_pred_class)\n",
    "    training_error.append(1 - training_accuracy)\n",
    "    \n",
    "    # Calculate testing error.\n",
    "    y_pred_class = knn.predict(X_test)\n",
    "    testing_accuracy = metrics.accuracy_score(y_test, y_pred_class)\n",
    "    testing_error.append(1 - testing_accuracy)"
   ]
  },
  {
   "cell_type": "code",
   "execution_count": 79,
   "metadata": {},
   "outputs": [
    {
     "data": {
      "text/html": [
       "<div>\n",
       "<style scoped>\n",
       "    .dataframe tbody tr th:only-of-type {\n",
       "        vertical-align: middle;\n",
       "    }\n",
       "\n",
       "    .dataframe tbody tr th {\n",
       "        vertical-align: top;\n",
       "    }\n",
       "\n",
       "    .dataframe thead th {\n",
       "        text-align: right;\n",
       "    }\n",
       "</style>\n",
       "<table border=\"1\" class=\"dataframe\">\n",
       "  <thead>\n",
       "    <tr style=\"text-align: right;\">\n",
       "      <th></th>\n",
       "      <th>training error</th>\n",
       "      <th>testing error</th>\n",
       "    </tr>\n",
       "    <tr>\n",
       "      <th>K</th>\n",
       "      <th></th>\n",
       "      <th></th>\n",
       "    </tr>\n",
       "  </thead>\n",
       "  <tbody>\n",
       "    <tr>\n",
       "      <th>100</th>\n",
       "      <td>0.666667</td>\n",
       "      <td>0.789474</td>\n",
       "    </tr>\n",
       "    <tr>\n",
       "      <th>99</th>\n",
       "      <td>0.666667</td>\n",
       "      <td>0.789474</td>\n",
       "    </tr>\n",
       "    <tr>\n",
       "      <th>98</th>\n",
       "      <td>0.666667</td>\n",
       "      <td>0.789474</td>\n",
       "    </tr>\n",
       "    <tr>\n",
       "      <th>97</th>\n",
       "      <td>0.666667</td>\n",
       "      <td>0.789474</td>\n",
       "    </tr>\n",
       "    <tr>\n",
       "      <th>96</th>\n",
       "      <td>0.666667</td>\n",
       "      <td>0.789474</td>\n",
       "    </tr>\n",
       "  </tbody>\n",
       "</table>\n",
       "</div>"
      ],
      "text/plain": [
       "     training error  testing error\n",
       "K                                 \n",
       "100        0.666667       0.789474\n",
       "99         0.666667       0.789474\n",
       "98         0.666667       0.789474\n",
       "97         0.666667       0.789474\n",
       "96         0.666667       0.789474"
      ]
     },
     "execution_count": 79,
     "metadata": {},
     "output_type": "execute_result"
    }
   ],
   "source": [
    "# Calculate TRAINING ERROR and TESTING ERROR for K=1 through 100.\n",
    "\n",
    "k_range = list(range(1, 101))\n",
    "training_error = []\n",
    "testing_error = []\n",
    "\n",
    "# Find test accuracy for all values of K between 1 and 100 (inclusive).\n",
    "for k in k_range:\n",
    "\n",
    "    # Instantiate the model with the current K value.\n",
    "    knn = KNeighborsClassifier(n_neighbors=k)\n",
    "    knn.fit(X_train, y_train)\n",
    "    \n",
    "    # Calculate training error (error = 1 - accuracy).\n",
    "    y_pred_class = knn.predict(X)\n",
    "    training_accuracy = metrics.accuracy_score(y, y_pred_class)\n",
    "    training_error.append(1 - training_accuracy)\n",
    "    \n",
    "    # Calculate testing error.\n",
    "    y_pred_class = knn.predict(X_test)\n",
    "    testing_accuracy = metrics.accuracy_score(y_test, y_pred_class)\n",
    "    testing_error.append(1 - testing_accuracy)\n",
    "    \n",
    "# Create a DataFrame of K, training error, and testing error.\n",
    "column_dict = {'K': k_range, 'training error':training_error, 'testing error':testing_error}\n",
    "df = pd.DataFrame(column_dict).set_index('K').sort_index(ascending=False)\n",
    "df.head()"
   ]
  },
  {
   "cell_type": "code",
   "execution_count": 80,
   "metadata": {},
   "outputs": [
    {
     "data": {
      "image/png": "[encoded data removed]",
      "text/plain": [
       "<Figure size 432x288 with 1 Axes>"
      ]
     },
     "metadata": {},
     "output_type": "display_data"
    }
   ],
   "source": [
    "# Plot the relationship between K (HIGH TO LOW) and TESTING ERROR.\n",
    "plt.style.use('fivethirtyeight')\n",
    "df.plot(y='testing error');\n",
    "plt.xlabel('Value of K for KNN');\n",
    "plt.ylabel('Error (lower is better)');"
   ]
  },
  {
   "cell_type": "code",
   "execution_count": 81,
   "metadata": {},
   "outputs": [
    {
     "data": {
      "image/png": "[encoded data removed]",
      "text/plain": [
       "<Figure size 432x288 with 1 Axes>"
      ]
     },
     "metadata": {},
     "output_type": "display_data"
    }
   ],
   "source": [
    "# Plot the relationship between K (HIGH TO LOW) and both TRAINING ERROR and TESTING ERROR.\n",
    "df.plot();\n",
    "plt.xlabel('Value of K for KNN');\n",
    "plt.ylabel('Error (lower is better)');"
   ]
  },
  {
   "cell_type": "markdown",
   "metadata": {},
   "source": [
    "### Bonus: According to `scikit-learn` Documentation, What is `knn.predict_proba(X_new)` Going to Do?"
   ]
  },
  {
   "cell_type": "code",
   "execution_count": 82,
   "metadata": {},
   "outputs": [
    {
     "name": "stdout",
     "output_type": "stream",
     "text": [
      "[[0.34 0.42 0.24]\n",
      " [0.34 0.42 0.24]\n",
      " [0.34 0.42 0.24]\n",
      " [0.34 0.42 0.24]\n",
      " [0.34 0.42 0.24]\n",
      " [0.34 0.42 0.24]\n",
      " [0.34 0.42 0.24]\n",
      " [0.34 0.42 0.24]\n",
      " [0.34 0.42 0.24]\n",
      " [0.34 0.42 0.24]\n",
      " [0.34 0.42 0.24]\n",
      " [0.34 0.42 0.24]\n",
      " [0.34 0.42 0.24]\n",
      " [0.34 0.42 0.24]\n",
      " [0.34 0.42 0.24]\n",
      " [0.34 0.42 0.24]\n",
      " [0.34 0.42 0.24]\n",
      " [0.34 0.42 0.24]\n",
      " [0.34 0.42 0.24]\n",
      " [0.34 0.42 0.24]\n",
      " [0.34 0.42 0.24]\n",
      " [0.34 0.42 0.24]\n",
      " [0.34 0.42 0.24]\n",
      " [0.34 0.42 0.24]\n",
      " [0.34 0.42 0.24]\n",
      " [0.34 0.42 0.24]\n",
      " [0.34 0.42 0.24]\n",
      " [0.34 0.42 0.24]\n",
      " [0.34 0.42 0.24]\n",
      " [0.34 0.42 0.24]\n",
      " [0.34 0.42 0.24]\n",
      " [0.34 0.42 0.24]\n",
      " [0.34 0.42 0.24]\n",
      " [0.34 0.42 0.24]\n",
      " [0.34 0.42 0.24]\n",
      " [0.34 0.42 0.24]\n",
      " [0.34 0.42 0.24]\n",
      " [0.34 0.42 0.24]\n",
      " [0.34 0.42 0.24]\n",
      " [0.34 0.42 0.24]\n",
      " [0.34 0.42 0.24]\n",
      " [0.34 0.42 0.24]\n",
      " [0.34 0.42 0.24]\n",
      " [0.34 0.42 0.24]\n",
      " [0.34 0.42 0.24]\n",
      " [0.34 0.42 0.24]\n",
      " [0.34 0.42 0.24]\n",
      " [0.34 0.42 0.24]\n",
      " [0.34 0.42 0.24]\n",
      " [0.34 0.42 0.24]\n",
      " [0.22 0.42 0.36]\n",
      " [0.22 0.42 0.36]\n",
      " [0.22 0.42 0.36]\n",
      " [0.26 0.42 0.32]\n",
      " [0.22 0.42 0.36]\n",
      " [0.22 0.42 0.36]\n",
      " [0.22 0.42 0.36]\n",
      " [0.34 0.42 0.24]\n",
      " [0.22 0.42 0.36]\n",
      " [0.27 0.42 0.31]\n",
      " [0.34 0.42 0.24]\n",
      " [0.23 0.42 0.35]\n",
      " [0.25 0.42 0.33]\n",
      " [0.22 0.42 0.36]\n",
      " [0.3  0.42 0.28]\n",
      " [0.22 0.42 0.36]\n",
      " [0.22 0.42 0.36]\n",
      " [0.25 0.42 0.33]\n",
      " [0.22 0.42 0.36]\n",
      " [0.27 0.42 0.31]\n",
      " [0.22 0.42 0.36]\n",
      " [0.24 0.42 0.34]\n",
      " [0.22 0.42 0.36]\n",
      " [0.22 0.42 0.36]\n",
      " [0.22 0.42 0.36]\n",
      " [0.22 0.42 0.36]\n",
      " [0.22 0.42 0.36]\n",
      " [0.22 0.42 0.36]\n",
      " [0.22 0.42 0.36]\n",
      " [0.33 0.42 0.25]\n",
      " [0.28 0.42 0.3 ]\n",
      " [0.31 0.42 0.27]\n",
      " [0.26 0.42 0.32]\n",
      " [0.22 0.42 0.36]\n",
      " [0.22 0.42 0.36]\n",
      " [0.22 0.42 0.36]\n",
      " [0.22 0.42 0.36]\n",
      " [0.22 0.42 0.36]\n",
      " [0.25 0.42 0.33]\n",
      " [0.26 0.42 0.32]\n",
      " [0.23 0.42 0.35]\n",
      " [0.22 0.42 0.36]\n",
      " [0.25 0.42 0.33]\n",
      " [0.34 0.42 0.24]\n",
      " [0.25 0.42 0.33]\n",
      " [0.25 0.42 0.33]\n",
      " [0.24 0.42 0.34]\n",
      " [0.22 0.42 0.36]\n",
      " [0.34 0.42 0.24]\n",
      " [0.25 0.42 0.33]\n",
      " [0.22 0.42 0.36]\n",
      " [0.22 0.42 0.36]\n",
      " [0.22 0.42 0.36]\n",
      " [0.22 0.42 0.36]\n",
      " [0.22 0.42 0.36]\n",
      " [0.22 0.42 0.36]\n",
      " [0.24 0.42 0.34]\n",
      " [0.22 0.42 0.36]\n",
      " [0.22 0.42 0.36]\n",
      " [0.22 0.42 0.36]\n",
      " [0.22 0.42 0.36]\n",
      " [0.22 0.42 0.36]\n",
      " [0.22 0.42 0.36]\n",
      " [0.22 0.42 0.36]\n",
      " [0.22 0.42 0.36]\n",
      " [0.22 0.42 0.36]\n",
      " [0.22 0.42 0.36]\n",
      " [0.22 0.42 0.36]\n",
      " [0.22 0.42 0.36]\n",
      " [0.22 0.42 0.36]\n",
      " [0.22 0.42 0.36]\n",
      " [0.22 0.42 0.36]\n",
      " [0.22 0.42 0.36]\n",
      " [0.22 0.42 0.36]\n",
      " [0.22 0.42 0.36]\n",
      " [0.22 0.42 0.36]\n",
      " [0.22 0.42 0.36]\n",
      " [0.22 0.42 0.36]\n",
      " [0.22 0.42 0.36]\n",
      " [0.22 0.42 0.36]\n",
      " [0.22 0.42 0.36]\n",
      " [0.22 0.42 0.36]\n",
      " [0.22 0.42 0.36]\n",
      " [0.22 0.42 0.36]\n",
      " [0.22 0.42 0.36]\n",
      " [0.22 0.42 0.36]\n",
      " [0.22 0.42 0.36]\n",
      " [0.22 0.42 0.36]\n",
      " [0.22 0.42 0.36]\n",
      " [0.22 0.42 0.36]\n",
      " [0.22 0.42 0.36]\n",
      " [0.22 0.42 0.36]\n",
      " [0.22 0.42 0.36]\n",
      " [0.22 0.42 0.36]\n",
      " [0.22 0.42 0.36]\n",
      " [0.22 0.42 0.36]\n",
      " [0.22 0.42 0.36]\n",
      " [0.22 0.42 0.36]\n",
      " [0.22 0.42 0.36]\n",
      " [0.22 0.42 0.36]]\n"
     ]
    }
   ],
   "source": [
    "#Returns probability estimates for the test data X.\n",
    "print (knn.predict_proba(X))"
   ]
  },
  {
   "cell_type": "markdown",
   "metadata": {},
   "source": [
    "## Enrichment\n",
    "_Everything beyond this point is enrichment and examples using Statsmodels for linear regression._"
   ]
  },
  {
   "cell_type": "markdown",
   "metadata": {},
   "source": [
    "### Example: Using the Statsmodels Formula\n",
    "\n",
    "Adapt the formula example using your metrics. We will review this implementation in class. Here is a reference to consider. The workflow is the same, but the syntax is a little different. We want to get accustomed to the formula syntax because we will be using them a lot more with regressions. The results should be comparable to scikit-learn's regression models."
   ]
  },
  {
   "cell_type": "code",
   "execution_count": 86,
   "metadata": {},
   "outputs": [
    {
     "data": {
      "text/html": [
       "<div>\n",
       "<style scoped>\n",
       "    .dataframe tbody tr th:only-of-type {\n",
       "        vertical-align: middle;\n",
       "    }\n",
       "\n",
       "    .dataframe tbody tr th {\n",
       "        vertical-align: top;\n",
       "    }\n",
       "\n",
       "    .dataframe thead th {\n",
       "        text-align: right;\n",
       "    }\n",
       "</style>\n",
       "<table border=\"1\" class=\"dataframe\">\n",
       "  <thead>\n",
       "    <tr style=\"text-align: right;\">\n",
       "      <th></th>\n",
       "      <th>CRIM</th>\n",
       "      <th>ZN</th>\n",
       "      <th>INDUS</th>\n",
       "      <th>CHAS</th>\n",
       "      <th>NOX</th>\n",
       "      <th>RM</th>\n",
       "      <th>AGE</th>\n",
       "      <th>DIS</th>\n",
       "      <th>RAD</th>\n",
       "      <th>TAX</th>\n",
       "      <th>PTRATIO</th>\n",
       "      <th>B</th>\n",
       "      <th>LSTAT</th>\n",
       "      <th>MEDV</th>\n",
       "    </tr>\n",
       "  </thead>\n",
       "  <tbody>\n",
       "    <tr>\n",
       "      <th>0</th>\n",
       "      <td>0.00632</td>\n",
       "      <td>18.0</td>\n",
       "      <td>2.31</td>\n",
       "      <td>0.0</td>\n",
       "      <td>0.538</td>\n",
       "      <td>6.575</td>\n",
       "      <td>65.2</td>\n",
       "      <td>4.0900</td>\n",
       "      <td>1.0</td>\n",
       "      <td>296.0</td>\n",
       "      <td>15.3</td>\n",
       "      <td>396.90</td>\n",
       "      <td>4.98</td>\n",
       "      <td>24.0</td>\n",
       "    </tr>\n",
       "    <tr>\n",
       "      <th>1</th>\n",
       "      <td>0.02731</td>\n",
       "      <td>0.0</td>\n",
       "      <td>7.07</td>\n",
       "      <td>0.0</td>\n",
       "      <td>0.469</td>\n",
       "      <td>6.421</td>\n",
       "      <td>78.9</td>\n",
       "      <td>4.9671</td>\n",
       "      <td>2.0</td>\n",
       "      <td>242.0</td>\n",
       "      <td>17.8</td>\n",
       "      <td>396.90</td>\n",
       "      <td>9.14</td>\n",
       "      <td>21.6</td>\n",
       "    </tr>\n",
       "    <tr>\n",
       "      <th>2</th>\n",
       "      <td>0.02729</td>\n",
       "      <td>0.0</td>\n",
       "      <td>7.07</td>\n",
       "      <td>0.0</td>\n",
       "      <td>0.469</td>\n",
       "      <td>7.185</td>\n",
       "      <td>61.1</td>\n",
       "      <td>4.9671</td>\n",
       "      <td>2.0</td>\n",
       "      <td>242.0</td>\n",
       "      <td>17.8</td>\n",
       "      <td>392.83</td>\n",
       "      <td>4.03</td>\n",
       "      <td>34.7</td>\n",
       "    </tr>\n",
       "    <tr>\n",
       "      <th>3</th>\n",
       "      <td>0.03237</td>\n",
       "      <td>0.0</td>\n",
       "      <td>2.18</td>\n",
       "      <td>0.0</td>\n",
       "      <td>0.458</td>\n",
       "      <td>6.998</td>\n",
       "      <td>45.8</td>\n",
       "      <td>6.0622</td>\n",
       "      <td>3.0</td>\n",
       "      <td>222.0</td>\n",
       "      <td>18.7</td>\n",
       "      <td>394.63</td>\n",
       "      <td>2.94</td>\n",
       "      <td>33.4</td>\n",
       "    </tr>\n",
       "    <tr>\n",
       "      <th>4</th>\n",
       "      <td>0.06905</td>\n",
       "      <td>0.0</td>\n",
       "      <td>2.18</td>\n",
       "      <td>0.0</td>\n",
       "      <td>0.458</td>\n",
       "      <td>7.147</td>\n",
       "      <td>54.2</td>\n",
       "      <td>6.0622</td>\n",
       "      <td>3.0</td>\n",
       "      <td>222.0</td>\n",
       "      <td>18.7</td>\n",
       "      <td>396.90</td>\n",
       "      <td>5.33</td>\n",
       "      <td>36.2</td>\n",
       "    </tr>\n",
       "  </tbody>\n",
       "</table>\n",
       "</div>"
      ],
      "text/plain": [
       "      CRIM    ZN  INDUS  CHAS    NOX     RM   AGE     DIS  RAD    TAX  \\\n",
       "0  0.00632  18.0   2.31   0.0  0.538  6.575  65.2  4.0900  1.0  296.0   \n",
       "1  0.02731   0.0   7.07   0.0  0.469  6.421  78.9  4.9671  2.0  242.0   \n",
       "2  0.02729   0.0   7.07   0.0  0.469  7.185  61.1  4.9671  2.0  242.0   \n",
       "3  0.03237   0.0   2.18   0.0  0.458  6.998  45.8  6.0622  3.0  222.0   \n",
       "4  0.06905   0.0   2.18   0.0  0.458  7.147  54.2  6.0622  3.0  222.0   \n",
       "\n",
       "   PTRATIO       B  LSTAT  MEDV  \n",
       "0     15.3  396.90   4.98  24.0  \n",
       "1     17.8  396.90   9.14  21.6  \n",
       "2     17.8  392.83   4.03  34.7  \n",
       "3     18.7  394.63   2.94  33.4  \n",
       "4     18.7  396.90   5.33  36.2  "
      ]
     },
     "execution_count": 86,
     "metadata": {},
     "output_type": "execute_result"
    }
   ],
   "source": [
    "# First, format our data in a DataFrame\n",
    "boston = load_boston()\n",
    "df = pd.DataFrame(boston.data, columns=boston.feature_names)\n",
    "df['MEDV'] = boston.target\n",
    "df.head()"
   ]
  },
  {
   "cell_type": "code",
   "execution_count": 87,
   "metadata": {},
   "outputs": [
    {
     "data": {
      "text/html": [
       "<table class=\"simpletable\">\n",
       "<caption>OLS Regression Results</caption>\n",
       "<tr>\n",
       "  <th>Dep. Variable:</th>          <td>MEDV</td>       <th>  R-squared:         </th> <td>   0.951</td> \n",
       "</tr>\n",
       "<tr>\n",
       "  <th>Model:</th>                   <td>OLS</td>       <th>  Adj. R-squared:    </th> <td>   0.951</td> \n",
       "</tr>\n",
       "<tr>\n",
       "  <th>Method:</th>             <td>Least Squares</td>  <th>  F-statistic:       </th> <td>   1220.</td> \n",
       "</tr>\n",
       "<tr>\n",
       "  <th>Date:</th>             <td>Sun, 24 Mar 2019</td> <th>  Prob (F-statistic):</th> <td>1.59e-321</td>\n",
       "</tr>\n",
       "<tr>\n",
       "  <th>Time:</th>                 <td>18:07:37</td>     <th>  Log-Likelihood:    </th> <td> -1567.7</td> \n",
       "</tr>\n",
       "<tr>\n",
       "  <th>No. Observations:</th>      <td>   506</td>      <th>  AIC:               </th> <td>   3151.</td> \n",
       "</tr>\n",
       "<tr>\n",
       "  <th>Df Residuals:</th>          <td>   498</td>      <th>  BIC:               </th> <td>   3185.</td> \n",
       "</tr>\n",
       "<tr>\n",
       "  <th>Df Model:</th>              <td>     8</td>      <th>                     </th>     <td> </td>    \n",
       "</tr>\n",
       "<tr>\n",
       "  <th>Covariance Type:</th>      <td>nonrobust</td>    <th>                     </th>     <td> </td>    \n",
       "</tr>\n",
       "</table>\n",
       "<table class=\"simpletable\">\n",
       "<tr>\n",
       "    <td></td>       <th>coef</th>     <th>std err</th>      <th>t</th>      <th>P>|t|</th>  <th>[0.025</th>    <th>0.975]</th>  \n",
       "</tr>\n",
       "<tr>\n",
       "  <th>RM</th>    <td>    4.9744</td> <td>    0.224</td> <td>   22.197</td> <td> 0.000</td> <td>    4.534</td> <td>    5.415</td>\n",
       "</tr>\n",
       "<tr>\n",
       "  <th>LSTAT</th> <td>   -0.5615</td> <td>    0.048</td> <td>  -11.817</td> <td> 0.000</td> <td>   -0.655</td> <td>   -0.468</td>\n",
       "</tr>\n",
       "<tr>\n",
       "  <th>RAD</th>   <td>    0.2109</td> <td>    0.070</td> <td>    3.025</td> <td> 0.003</td> <td>    0.074</td> <td>    0.348</td>\n",
       "</tr>\n",
       "<tr>\n",
       "  <th>TAX</th>   <td>   -0.0174</td> <td>    0.004</td> <td>   -4.267</td> <td> 0.000</td> <td>   -0.025</td> <td>   -0.009</td>\n",
       "</tr>\n",
       "<tr>\n",
       "  <th>NOX</th>   <td>    4.3456</td> <td>    3.385</td> <td>    1.284</td> <td> 0.200</td> <td>   -2.305</td> <td>   10.997</td>\n",
       "</tr>\n",
       "<tr>\n",
       "  <th>INDUS</th> <td>    0.0925</td> <td>    0.067</td> <td>    1.385</td> <td> 0.167</td> <td>   -0.039</td> <td>    0.224</td>\n",
       "</tr>\n",
       "<tr>\n",
       "  <th>CRIM</th>  <td>   -0.0866</td> <td>    0.037</td> <td>   -2.362</td> <td> 0.019</td> <td>   -0.159</td> <td>   -0.015</td>\n",
       "</tr>\n",
       "<tr>\n",
       "  <th>ZN</th>    <td>    0.0288</td> <td>    0.013</td> <td>    2.215</td> <td> 0.027</td> <td>    0.003</td> <td>    0.054</td>\n",
       "</tr>\n",
       "</table>\n",
       "<table class=\"simpletable\">\n",
       "<tr>\n",
       "  <th>Omnibus:</th>       <td>192.072</td> <th>  Durbin-Watson:     </th> <td>   0.812</td> \n",
       "</tr>\n",
       "<tr>\n",
       "  <th>Prob(Omnibus):</th> <td> 0.000</td>  <th>  Jarque-Bera (JB):  </th> <td> 831.634</td> \n",
       "</tr>\n",
       "<tr>\n",
       "  <th>Skew:</th>          <td> 1.665</td>  <th>  Prob(JB):          </th> <td>2.59e-181</td>\n",
       "</tr>\n",
       "<tr>\n",
       "  <th>Kurtosis:</th>      <td> 8.325</td>  <th>  Cond. No.          </th> <td>6.24e+03</td> \n",
       "</tr>\n",
       "</table><br/><br/>Warnings:<br/>[1] Standard Errors assume that the covariance matrix of the errors is correctly specified.<br/>[2] The condition number is large, 6.24e+03. This might indicate that there are<br/>strong multicollinearity or other numerical problems."
      ],
      "text/plain": [
       "<class 'statsmodels.iolib.summary.Summary'>\n",
       "\"\"\"\n",
       "                            OLS Regression Results                            \n",
       "==============================================================================\n",
       "Dep. Variable:                   MEDV   R-squared:                       0.951\n",
       "Model:                            OLS   Adj. R-squared:                  0.951\n",
       "Method:                 Least Squares   F-statistic:                     1220.\n",
       "Date:                Sun, 24 Mar 2019   Prob (F-statistic):          1.59e-321\n",
       "Time:                        18:07:37   Log-Likelihood:                -1567.7\n",
       "No. Observations:                 506   AIC:                             3151.\n",
       "Df Residuals:                     498   BIC:                             3185.\n",
       "Df Model:                           8                                         \n",
       "Covariance Type:            nonrobust                                         \n",
       "==============================================================================\n",
       "                 coef    std err          t      P>|t|      [0.025      0.975]\n",
       "------------------------------------------------------------------------------\n",
       "RM             4.9744      0.224     22.197      0.000       4.534       5.415\n",
       "LSTAT         -0.5615      0.048    -11.817      0.000      -0.655      -0.468\n",
       "RAD            0.2109      0.070      3.025      0.003       0.074       0.348\n",
       "TAX           -0.0174      0.004     -4.267      0.000      -0.025      -0.009\n",
       "NOX            4.3456      3.385      1.284      0.200      -2.305      10.997\n",
       "INDUS          0.0925      0.067      1.385      0.167      -0.039       0.224\n",
       "CRIM          -0.0866      0.037     -2.362      0.019      -0.159      -0.015\n",
       "ZN             0.0288      0.013      2.215      0.027       0.003       0.054\n",
       "==============================================================================\n",
       "Omnibus:                      192.072   Durbin-Watson:                   0.812\n",
       "Prob(Omnibus):                  0.000   Jarque-Bera (JB):              831.634\n",
       "Skew:                           1.665   Prob(JB):                    2.59e-181\n",
       "Kurtosis:                       8.325   Cond. No.                     6.24e+03\n",
       "==============================================================================\n",
       "\n",
       "Warnings:\n",
       "[1] Standard Errors assume that the covariance matrix of the errors is correctly specified.\n",
       "[2] The condition number is large, 6.24e+03. This might indicate that there are\n",
       "strong multicollinearity or other numerical problems.\n",
       "\"\"\""
      ]
     },
     "execution_count": 87,
     "metadata": {},
     "output_type": "execute_result"
    }
   ],
   "source": [
    "# Set up our new statsmodel.formula handling model\n",
    "import statsmodels.formula.api as smf\n",
    "\n",
    "# You can easily swap these out to test multiple versions/different formulas\n",
    "formulas = {\n",
    "    \"case1\": \"MEDV ~ RM + LSTAT + RAD + TAX + NOX + INDUS + CRIM + ZN - 1\", # - 1 = remove intercept\n",
    "    \"case2\": \"MEDV ~ NOX + RM\",\n",
    "    \"case3\": \"MEDV ~ RAD + TAX\"\n",
    "}\n",
    "\n",
    "model = smf.ols(formula=formulas['case1'], data=df)\n",
    "result = model.fit()\n",
    "\n",
    "result.summary()"
   ]
  },
  {
   "cell_type": "markdown",
   "metadata": {},
   "source": [
    "### Bonus Challenge #1:\n",
    "\n",
    "Can you optimize your R2, selecting the best features and using either test-train split or k-folds?"
   ]
  },
  {
   "cell_type": "code",
   "execution_count": null,
   "metadata": {},
   "outputs": [],
   "source": []
  },
  {
   "cell_type": "markdown",
   "metadata": {},
   "source": [
    "### Bonus Challenge #2:\n",
    "\n",
    "Given a combination of predictors, can you find another response variable that can be accurately predicted through the exploration of different predictors in this data set?\n",
    "\n",
    "_Tip: Check out pairplots, coefficients, and Pearson scores._"
   ]
  },
  {
   "cell_type": "code",
   "execution_count": null,
   "metadata": {},
   "outputs": [],
   "source": [
    "# Check out variable relations\n",
    "import seaborn as sns\n",
    "\n",
    "sns.pairplot(X);"
   ]
  },
  {
   "cell_type": "code",
   "execution_count": null,
   "metadata": {},
   "outputs": [],
   "source": [
    "# Check out Pearson scores\n"
   ]
  },
  {
   "cell_type": "markdown",
   "metadata": {},
   "source": [
    "## Demo: Patsy"
   ]
  },
  {
   "cell_type": "code",
   "execution_count": 88,
   "metadata": {},
   "outputs": [],
   "source": [
    "import patsy\n",
    "\n",
    "# Add response to the core DataFrame\n",
    "df['MEDV'] = y"
   ]
  },
  {
   "cell_type": "code",
   "execution_count": 89,
   "metadata": {},
   "outputs": [
    {
     "name": "stderr",
     "output_type": "stream",
     "text": [
      "/anaconda3/lib/python3.6/site-packages/sklearn/model_selection/_split.py:2026: FutureWarning: From version 0.21, test_size will always complement train_size unless both are specified.\n",
      "  FutureWarning)\n"
     ]
    }
   ],
   "source": [
    "from sklearn.model_selection import train_test_split #If you didn't import it earlier, do so now\n",
    "\n",
    "# Easily change your variable predictors without reslicing your DataFrame\n",
    "y, X = patsy.dmatrices(\"MEDV ~ AGE + RM\", data=df, return_type=\"dataframe\")\n",
    "\n",
    "X_train, X_test, y_train, y_test = train_test_split(X, y, train_size=.7)\n"
   ]
  },
  {
   "cell_type": "code",
   "execution_count": 90,
   "metadata": {},
   "outputs": [
    {
     "name": "stdout",
     "output_type": "stream",
     "text": [
      "R^2 Score: 0.12682609241128115\n"
     ]
    }
   ],
   "source": [
    "from sklearn import metrics\n",
    "from sklearn.linear_model import LinearRegression\n",
    "\n",
    "# Rerun your model, iteratively changing your variables and train_size from the previous cell\n",
    "\n",
    "lm = LinearRegression()\n",
    "model = lm.fit(X_train, y_train)\n",
    "\n",
    "predictions = model.predict(X_test)\n",
    "print(\"R^2 Score: {}\".format(metrics.r2_score(y_test, predictions)))"
   ]
  }
 ],
 "metadata": {
  "anaconda-cloud": {},
  "kernelspec": {
   "display_name": "Python 3",
   "language": "python",
   "name": "python3"
  },
  "language_info": {
   "codemirror_mode": {
    "name": "ipython",
    "version": 3
   },
   "file_extension": ".py",
   "mimetype": "text/x-python",
   "name": "python",
   "nbconvert_exporter": "python",
   "pygments_lexer": "ipython3",
   "version": "3.6.5"
  }
 },
 "nbformat": 4,
 "nbformat_minor": 1
}
